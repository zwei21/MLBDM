{
 "cells": [
  {
   "cell_type": "markdown",
   "metadata": {
    "slideshow": {
     "slide_type": "slide"
    }
   },
   "source": [
    "# Lecture 17: Ensemble Learning and Random Forests"
   ]
  },
  {
   "cell_type": "markdown",
   "metadata": {
    "slideshow": {
     "slide_type": "subslide"
    }
   },
   "source": [
    "![](https://www.tensorflow.org/images/colab_logo_32px.png)\n",
    "[Run in colab](https://colab.research.google.com/drive/1SNSqzKBuOnHfK_G_agJQtmE8y3WM2EhI)"
   ]
  },
  {
   "cell_type": "code",
   "execution_count": 1,
   "metadata": {
    "execution": {
     "iopub.execute_input": "2022-02-17T12:54:04.501981Z",
     "iopub.status.busy": "2022-02-17T12:54:04.501483Z",
     "iopub.status.idle": "2022-02-17T12:54:04.510681Z",
     "shell.execute_reply": "2022-02-17T12:54:04.510005Z"
    }
   },
   "outputs": [
    {
     "name": "stdout",
     "output_type": "stream",
     "text": [
      "Last executed: 2022-02-17 12:54:04\n"
     ]
    }
   ],
   "source": [
    "import datetime\n",
    "now = datetime.datetime.now()\n",
    "print(\"Last executed: \" + now.strftime(\"%Y-%m-%d %H:%M:%S\"))"
   ]
  },
  {
   "cell_type": "markdown",
   "metadata": {
    "slideshow": {
     "slide_type": "slide"
    }
   },
   "source": [
    "## Ensemble Learning\n",
    "\n",
    "- *Wisdom of the Crowd* \n",
    "- The average from many predictors (or people) may be more accurate that the result from any single given predictor\n",
    "- Group of predictors called an _ensemble_ \n",
    "- Even if individual predictors/classifiers are _weak_ (only slightly better than random), an ensemble can be _strong_ (high accuracy).\n",
    "- Works in analogy to Monte Carlo method (e.g. flipping a coin N times leads to 50% probability of heads asymptotically)."
   ]
  },
  {
   "cell_type": "markdown",
   "metadata": {
    "slideshow": {
     "slide_type": "subslide"
    }
   },
   "source": [
    "Two approaches \n",
    "- Different predictors \n",
    "- Same predictor, different training sets\n",
    "\n",
    "- Example are _Random Forests_ where Decision Trees are trained on random _*subsets*_ of the training data and then for each sample the assigned class is the one that gets the most _votes_ from the ensemble."
   ]
  },
  {
   "cell_type": "markdown",
   "metadata": {
    "slideshow": {
     "slide_type": "slide"
    }
   },
   "source": [
    "## Voting\n",
    "\n",
    "![](https://raw.githubusercontent.com/astro-informatics/course_mlbd_images/master/Lecture17_Images/votes1.png)"
   ]
  },
  {
   "cell_type": "markdown",
   "metadata": {
    "slideshow": {
     "slide_type": "subslide"
    }
   },
   "source": [
    "Majority wins (_hard_ voting) \n",
    "\n",
    "![](https://raw.githubusercontent.com/astro-informatics/course_mlbd_images/master/Lecture17_Images/votes2.png)\n",
    "\n",
    "Also _soft_ voting (see next slides and example)"
   ]
  },
  {
   "cell_type": "code",
   "execution_count": 2,
   "metadata": {
    "execution": {
     "iopub.execute_input": "2022-02-17T12:54:04.516695Z",
     "iopub.status.busy": "2022-02-17T12:54:04.516461Z",
     "iopub.status.idle": "2022-02-17T12:54:05.070519Z",
     "shell.execute_reply": "2022-02-17T12:54:05.069798Z"
    }
   },
   "outputs": [],
   "source": [
    "#build a voting classifier in Scikit using three weaker classifiers\n",
    "\n",
    "from sklearn.model_selection import train_test_split\n",
    "from sklearn.datasets import make_moons\n",
    "\n",
    "# use moons dataset\n",
    "X, y = make_moons(n_samples=500, noise=0.30, random_state=42) #X(features), y(classifications)\n",
    "\n",
    "#split into training and test data \n",
    "X_train, X_test, y_train, y_test = train_test_split(X, y, random_state=42) \n",
    "\n",
    "#load three different classification algorithms, and initialise \n",
    "from sklearn.ensemble import RandomForestClassifier\n",
    "from sklearn.linear_model import LogisticRegression\n",
    "from sklearn.svm import SVC\n",
    "\n",
    "#(note will use the variable name in next slides)\n",
    "log_clf = LogisticRegression(random_state=42)\n",
    "rnd_clf = RandomForestClassifier(random_state=42)\n",
    "svm_clf = SVC(probability=True, random_state=42)"
   ]
  },
  {
   "cell_type": "code",
   "execution_count": 3,
   "metadata": {
    "execution": {
     "iopub.execute_input": "2022-02-17T12:54:05.074871Z",
     "iopub.status.busy": "2022-02-17T12:54:05.074518Z",
     "iopub.status.idle": "2022-02-17T12:54:05.243754Z",
     "shell.execute_reply": "2022-02-17T12:54:05.242962Z"
    }
   },
   "outputs": [],
   "source": [
    "from sklearn.ensemble import VotingClassifier\n",
    "\n",
    "# voting classifier = logistic + random forest + SVC\n",
    "# set up the voting classifier\n",
    "voting_clf = VotingClassifier(\n",
    "        estimators=[('lr', log_clf), ('rf', rnd_clf), ('svc', svm_clf)],\n",
    "        voting='soft')\n",
    "\n",
    "# classify using voting classifier (auto uses all the assigned invidiual classifiers)\n",
    "voting_clf.fit(X_train, y_train);"
   ]
  },
  {
   "cell_type": "code",
   "execution_count": 4,
   "metadata": {
    "execution": {
     "iopub.execute_input": "2022-02-17T12:54:05.248198Z",
     "iopub.status.busy": "2022-02-17T12:54:05.247967Z",
     "iopub.status.idle": "2022-02-17T12:54:05.647899Z",
     "shell.execute_reply": "2022-02-17T12:54:05.646940Z"
    }
   },
   "outputs": [
    {
     "name": "stdout",
     "output_type": "stream",
     "text": [
      "LogisticRegression 0.864\n",
      "RandomForestClassifier 0.896\n",
      "SVC 0.896\n",
      "VotingClassifier 0.92\n"
     ]
    }
   ],
   "source": [
    "# let's see how each individual classifier did:\n",
    "from sklearn.metrics import accuracy_score\n",
    "\n",
    "for clf in (log_clf, rnd_clf, svm_clf, voting_clf): #loop over classifiers\n",
    "    clf.fit(X_train, y_train) #fit each one individually \n",
    "    y_pred = clf.predict(X_test) #make prediction \n",
    "    print(clf.__class__.__name__, accuracy_score(y_test, y_pred)) #print the score\n",
    "    \n",
    "# voting classifier did better than 3 individual ones!"
   ]
  },
  {
   "cell_type": "markdown",
   "metadata": {
    "slideshow": {
     "slide_type": "subslide"
    }
   },
   "source": [
    "* Hard voting: frequency of the class, without weight taken into account.\n",
    "* Soft voting: If all classifiers can estimate class probabilities (i.e. they have a predict_proba() method), use Scikit to predict highest class probability, averaged over all individual classifiers. \n",
    "\n",
    "* Soft often better than hard voting because it gives more weight to highly confident, but perhaps less frequent, votes."
   ]
  },
  {
   "cell_type": "markdown",
   "metadata": {
    "slideshow": {
     "slide_type": "subslide"
    }
   },
   "source": [
    "### Bagging and Pasting \n",
    "\n",
    "Instead can use same predictor but different training sets. \n",
    "\n",
    "Two ways to create new training sets: \n",
    "- When sampling is performed with replacement, this method is called _bagging_ (short for bootstrap aggregating)\n",
    "- When sampling is performed without replacement, it is called _pasting_ \n",
    "\n",
    "Big pro: \n",
    "- Trivially parallisable across nodes/CPU \n"
   ]
  },
  {
   "cell_type": "markdown",
   "metadata": {
    "slideshow": {
     "slide_type": "subslide"
    }
   },
   "source": [
    "### Bagging \n",
    "\n",
    "Given a standard training set $D$ of size $n$, bagging generates $m>>n$ new training sets \n",
    "$D_{i}$, each of size $n'<n$, by sampling from $D$ uniformly and with replacement. \n",
    "\n",
    "By sampling _with replacement_, some observations may be repeated in each $D_{i}$.\n",
    "\n",
    "<img src=\"https://raw.githubusercontent.com/astro-informatics/course_mlbd_images/master/Lecture17_Images/bagging.png\" alt=\"Drawing\" style=\"width: 500px;\"/>"
   ]
  },
  {
   "cell_type": "markdown",
   "metadata": {
    "slideshow": {
     "slide_type": "subslide"
    }
   },
   "source": [
    "### Pasting\n",
    "\n",
    "Given a standard training set $D$ of size $n$, bagging generates $m>>n$ new training sets \n",
    "$D_{i}$, each of size $n'<n$, by sampling from $D$ uniformly and without replacement. \n",
    "\n",
    "By sampling _**without** replacement_, some observations may **not** be repeated in each $D_{i}$.\n"
   ]
  },
  {
   "cell_type": "code",
   "execution_count": 5,
   "metadata": {
    "execution": {
     "iopub.execute_input": "2022-02-17T12:54:05.652464Z",
     "iopub.status.busy": "2022-02-17T12:54:05.651778Z",
     "iopub.status.idle": "2022-02-17T12:54:05.660466Z",
     "shell.execute_reply": "2022-02-17T12:54:05.659884Z"
    }
   },
   "outputs": [
    {
     "name": "stdout",
     "output_type": "stream",
     "text": [
      "0.856\n"
     ]
    }
   ],
   "source": [
    "#example in Decision Trees using moons data from before\n",
    "from sklearn.metrics import accuracy_score\n",
    "from sklearn.tree import DecisionTreeClassifier\n",
    "\n",
    "#make a single prediction using a decision tree\n",
    "tree_clf = DecisionTreeClassifier(random_state=42) #setup classifier\n",
    "tree_clf.fit(X_train, y_train) #train\n",
    "y_pred_tree = tree_clf.predict(X_test) #predict\n",
    "print(accuracy_score(y_test, y_pred_tree)) #test score"
   ]
  },
  {
   "cell_type": "code",
   "execution_count": 6,
   "metadata": {
    "execution": {
     "iopub.execute_input": "2022-02-17T12:54:05.664110Z",
     "iopub.status.busy": "2022-02-17T12:54:05.663592Z",
     "iopub.status.idle": "2022-02-17T12:54:06.499676Z",
     "shell.execute_reply": "2022-02-17T12:54:06.498947Z"
    }
   },
   "outputs": [
    {
     "name": "stdout",
     "output_type": "stream",
     "text": [
      "0.904\n"
     ]
    }
   ],
   "source": [
    "# SciKit Learn provides an easy way to do this using BaggingClassifier \n",
    "from sklearn.ensemble import BaggingClassifier #load the bagging classifier \n",
    "\n",
    "\n",
    "# Train ensemble of 500 Decision Tree classifiers\n",
    "# each using 100 training instances - randomly sampled from training set\n",
    "# with replacement. \n",
    "\n",
    "bag_clf = BaggingClassifier(\n",
    "        DecisionTreeClassifier(random_state=42), #classifier to use\n",
    "        n_estimators=500, #number of seperate classifiers\n",
    "        max_samples=100, #number of training instances \n",
    "        bootstrap=True, # set to False for pasting instead of bagging.\n",
    "        n_jobs=1, #number of cores to use -1 is 1\n",
    "        random_state=42)\n",
    "\n",
    "bag_clf.fit(X_train, y_train) #fit data \n",
    "y_pred = bag_clf.predict(X_test) #compare to prediction \n",
    "print(accuracy_score(y_test, y_pred))"
   ]
  },
  {
   "cell_type": "code",
   "execution_count": 7,
   "metadata": {
    "execution": {
     "iopub.execute_input": "2022-02-17T12:54:06.503581Z",
     "iopub.status.busy": "2022-02-17T12:54:06.503028Z",
     "iopub.status.idle": "2022-02-17T12:54:06.699726Z",
     "shell.execute_reply": "2022-02-17T12:54:06.698975Z"
    }
   },
   "outputs": [],
   "source": [
    "from matplotlib.colors import ListedColormap\n",
    "\n",
    "def plot_decision_boundary(handle, clf, X, y, axes=[-1.5, 2.5, -1, 1.5], alpha=0.5, contour=True):\n",
    "    x1s = np.linspace(axes[0], axes[1], 100)\n",
    "    x2s = np.linspace(axes[2], axes[3], 100)\n",
    "    x1, x2 = np.meshgrid(x1s, x2s)\n",
    "    X_new = np.c_[x1.ravel(), x2.ravel()]\n",
    "    y_pred = clf.predict(X_new).reshape(x1.shape)\n",
    "    custom_cmap = ListedColormap(['#fafab0','#9898ff','#a0faa0'])\n",
    "    handle.contourf(x1, x2, y_pred, alpha=0.3, cmap=custom_cmap)\n",
    "    if contour:\n",
    "        custom_cmap2 = ListedColormap(['#7d7d58','#4c4c7f','#507d50'])\n",
    "        handle.contour(x1, x2, y_pred, cmap=custom_cmap2, alpha=0.8)\n",
    "    handle.plot(X[:, 0][y==0], X[:, 1][y==0], \"yo\", alpha=alpha)\n",
    "    handle.plot(X[:, 0][y==1], X[:, 1][y==1], \"bs\", alpha=alpha)\n",
    "    handle.axis(axes)\n",
    "    handle.set_xlabel(r\"$x_1$\", fontsize=18)\n",
    "    handle.set_ylabel(r\"$x_2$\", fontsize=18, rotation=0)"
   ]
  },
  {
   "cell_type": "code",
   "execution_count": 8,
   "metadata": {
    "execution": {
     "iopub.execute_input": "2022-02-17T12:54:06.703833Z",
     "iopub.status.busy": "2022-02-17T12:54:06.703219Z",
     "iopub.status.idle": "2022-02-17T12:54:08.101734Z",
     "shell.execute_reply": "2022-02-17T12:54:08.101175Z"
    }
   },
   "outputs": [
    {
     "data": {
      "image/png": "[encoded data removed]",
      "text/plain": [
       "<Figure size 792x288 with 2 Axes>"
      ]
     },
     "metadata": {
      "needs_background": "light"
     },
     "output_type": "display_data"
    }
   ],
   "source": [
    "import numpy as np\n",
    "import matplotlib.pyplot as plt\n",
    "\n",
    "_, (ax1, ax2) = plt.subplots(1, 2, figsize=(11, 4))\n",
    "\n",
    "plot_decision_boundary(ax1, tree_clf, X, y), ax1.set_title(\"Decision Tree\")\n",
    "\n",
    "plot_decision_boundary(ax2, bag_clf, X, y), ax2.set_title(\"Decision Trees with Bagging\");"
   ]
  },
  {
   "cell_type": "markdown",
   "metadata": {
    "slideshow": {
     "slide_type": "subslide"
    }
   },
   "source": [
    "### Bagging versus Pasting\n",
    "\n",
    "* Bootstrapping introduces a bit more diversity in the subsets that each predictor is trained on, so bagging ends up with a slightly higher bias than pasting, \n",
    "* But this also means that predictors end up being less correlated so the ensemble’s variance is reduced\n",
    "* Overall, bagging often results in better models, which explains why it is generally preferred\n",
    "* However, if you have spare time and CPU power you can use cross-validation to evaluate both bagging and pasting and select the one that works best.\n",
    "\n"
   ]
  },
  {
   "cell_type": "markdown",
   "metadata": {
    "slideshow": {
     "slide_type": "subslide"
    }
   },
   "source": [
    "* With bagging, some instances may be sampled several times for any given predictor, while others may not be sampled at all. \n",
    "* By default a ```BaggingClassifier``` samples $m$ training instances with replacement (```bootstrap = True```), where $m$ is the size of the training set\n",
    "* Only about ~63% of the training instances are sampled on average for any given predictor \n",
    "\n",
    "* The remaining 37% of the training instances that are not sampled are called _out-of-bag (oob) instances_. Note that they are not the same 37% for all predictors.\n",
    "\n",
    "* oob's will determine the accuracy of the ensemble predictor "
   ]
  },
  {
   "cell_type": "code",
   "execution_count": 9,
   "metadata": {
    "execution": {
     "iopub.execute_input": "2022-02-17T12:54:08.105219Z",
     "iopub.status.busy": "2022-02-17T12:54:08.104741Z",
     "iopub.status.idle": "2022-02-17T12:54:10.374028Z",
     "shell.execute_reply": "2022-02-17T12:54:10.373321Z"
    }
   },
   "outputs": [
    {
     "data": {
      "text/plain": [
       "0.896"
      ]
     },
     "execution_count": 9,
     "metadata": {},
     "output_type": "execute_result"
    }
   ],
   "source": [
    "#use oob_score=True in Scikit to do automatic oob evaluation after training.\n",
    "\n",
    "# oob_score_: predicts classifier results on test set.\n",
    "bag_clf = BaggingClassifier(\n",
    "    DecisionTreeClassifier(),\n",
    "    n_estimators=1000,\n",
    "    bootstrap=True, #using replacement \n",
    "    n_jobs=-1,\n",
    "    oob_score=True\n",
    ")\n",
    "bag_clf.fit(X_train, y_train)\n",
    "bag_clf.oob_score_"
   ]
  },
  {
   "cell_type": "code",
   "execution_count": 10,
   "metadata": {
    "execution": {
     "iopub.execute_input": "2022-02-17T12:54:10.377831Z",
     "iopub.status.busy": "2022-02-17T12:54:10.377266Z",
     "iopub.status.idle": "2022-02-17T12:54:10.678065Z",
     "shell.execute_reply": "2022-02-17T12:54:10.677397Z"
    }
   },
   "outputs": [
    {
     "data": {
      "text/plain": [
       "0.904"
      ]
     },
     "execution_count": 10,
     "metadata": {},
     "output_type": "execute_result"
    }
   ],
   "source": [
    "# did oob_score_ do a good job? ok, not great \n",
    "from sklearn.metrics import accuracy_score\n",
    "y_pred = bag_clf.predict(X_test)\n",
    "accuracy_score(y_test,y_pred)"
   ]
  },
  {
   "cell_type": "markdown",
   "metadata": {
    "slideshow": {
     "slide_type": "slide"
    }
   },
   "source": [
    "## Sampling _Features_ as well as Training Instances\n",
    "\n",
    "Can also randomly sample the (set of) features themselves. Not only the training instances for a given set of features. "
   ]
  },
  {
   "cell_type": "markdown",
   "metadata": {
    "slideshow": {
     "slide_type": "subslide"
    }
   },
   "source": [
    "### Random Patches\n",
    "\n",
    "Sampling from _both_ instances and features is known as **Random Patches** method.\n",
    "\n",
    "In SciKit-Learn this is using the ```max_features``` and ```bootstrap_features=True``` key words in ```BaggingClassifier```.\n",
    "\n"
   ]
  },
  {
   "cell_type": "markdown",
   "metadata": {
    "slideshow": {
     "slide_type": "subslide"
    }
   },
   "source": [
    "### Random Sub-Spaces\n",
    "\n",
    "Keeping all training instances (i.e., ```bootstrap = False``` and ```max_samples = 1.0```) but sampling features only (i.e., ```bootstrap_features = True``` and/ or ```max_features``` smaller than 1.0) is called the **Random Subspaces method**"
   ]
  },
  {
   "cell_type": "code",
   "execution_count": 11,
   "metadata": {
    "execution": {
     "iopub.execute_input": "2022-02-17T12:54:10.681931Z",
     "iopub.status.busy": "2022-02-17T12:54:10.681364Z",
     "iopub.status.idle": "2022-02-17T12:54:11.277037Z",
     "shell.execute_reply": "2022-02-17T12:54:11.276327Z"
    }
   },
   "outputs": [
    {
     "name": "stdout",
     "output_type": "stream",
     "text": [
      "0.904\n"
     ]
    }
   ],
   "source": [
    "#random instances only\n",
    "bag_clf = BaggingClassifier(\n",
    "        DecisionTreeClassifier(random_state=42), \n",
    "        n_estimators=500, #number of seperate classifiers\n",
    "        max_samples=100, #number of training instances \n",
    "        bootstrap=True, # set to False for pasting instead of bagging.\n",
    "        n_jobs=-1, #number of cores to use\n",
    "        random_state=42)\n",
    "\n",
    "bag_clf.fit(X_train, y_train) #fit data \n",
    "y_pred = bag_clf.predict(X_test) #compare to prediction \n",
    "print(accuracy_score(y_test, y_pred))"
   ]
  },
  {
   "cell_type": "code",
   "execution_count": 12,
   "metadata": {
    "execution": {
     "iopub.execute_input": "2022-02-17T12:54:11.280732Z",
     "iopub.status.busy": "2022-02-17T12:54:11.280085Z",
     "iopub.status.idle": "2022-02-17T12:54:12.010048Z",
     "shell.execute_reply": "2022-02-17T12:54:12.009184Z"
    }
   },
   "outputs": [
    {
     "name": "stdout",
     "output_type": "stream",
     "text": [
      "0.848\n"
     ]
    }
   ],
   "source": [
    "#Random sub-space: features but not instances\n",
    "bag_clf = BaggingClassifier(\n",
    "        DecisionTreeClassifier(random_state=42), \n",
    "        n_estimators=500, #number of seperate classifiers\n",
    "        max_samples=1.0, #number of training instances \n",
    "        bootstrap=False, # ***set to False \n",
    "        max_features=1.0,\n",
    "        bootstrap_features=True, # *** setting to true for feature sampling \n",
    "        n_jobs=-1, #number of cores to use\n",
    "        random_state=42)\n",
    "\n",
    "bag_clf.fit(X_train, y_train) #fit data \n",
    "y_pred = bag_clf.predict(X_test) #compare to prediction \n",
    "print(accuracy_score(y_test, y_pred))"
   ]
  },
  {
   "cell_type": "code",
   "execution_count": 13,
   "metadata": {
    "execution": {
     "iopub.execute_input": "2022-02-17T12:54:12.013792Z",
     "iopub.status.busy": "2022-02-17T12:54:12.013417Z",
     "iopub.status.idle": "2022-02-17T12:54:12.634439Z",
     "shell.execute_reply": "2022-02-17T12:54:12.633565Z"
    }
   },
   "outputs": [
    {
     "name": "stdout",
     "output_type": "stream",
     "text": [
      "0.904\n"
     ]
    }
   ],
   "source": [
    "#Random Patches: random features and instances\n",
    "bag_clf = BaggingClassifier(\n",
    "        DecisionTreeClassifier(random_state=42), \n",
    "        n_estimators=500, #number of seperate classifiers\n",
    "        max_samples=100, #number of training instances \n",
    "        bootstrap=True, # *** set to True \n",
    "        max_features=1.0,\n",
    "        bootstrap_features=True, #*** setting to True for random patches\n",
    "        n_jobs=-1, #number of cores to use\n",
    "        random_state=42)\n",
    "\n",
    "bag_clf.fit(X_train, y_train) #fit data \n",
    "y_pred = bag_clf.predict(X_test) #compare to prediction \n",
    "print(accuracy_score(y_test, y_pred))"
   ]
  },
  {
   "cell_type": "markdown",
   "metadata": {
    "slideshow": {
     "slide_type": "slide"
    }
   },
   "source": [
    "## Random Forests\n",
    "* RF = ensemble of Decision Trees\n",
    "* We have actually been manually creating these in the previous examples explicitly!\n",
    "* Typically trained via bagging\n",
    "* ```RandomForestClassifier```: specially designed for DT classification\n",
    "* ```RandomForestRegressor```: specially designed for regression"
   ]
  },
  {
   "cell_type": "code",
   "execution_count": 14,
   "metadata": {
    "execution": {
     "iopub.execute_input": "2022-02-17T12:54:12.638438Z",
     "iopub.status.busy": "2022-02-17T12:54:12.637940Z",
     "iopub.status.idle": "2022-02-17T12:54:13.226610Z",
     "shell.execute_reply": "2022-02-17T12:54:13.225580Z"
    }
   },
   "outputs": [
    {
     "name": "stdout",
     "output_type": "stream",
     "text": [
      "0.92\n"
     ]
    }
   ],
   "source": [
    "# Train an RF classifier with 500 trees limited to 16 max nodes each.\n",
    "# splitter=\"random\": tells RF to search for best feature among a random subset of features. \n",
    "\n",
    "bag_clf = BaggingClassifier(\n",
    "    \n",
    "    DecisionTreeClassifier(\n",
    "        splitter=\"random\", \n",
    "        max_leaf_nodes=16,   #*** leaf nodes ***\n",
    "        random_state=42),\n",
    "    \n",
    "    n_estimators=500, #*** max trees ***\n",
    "    max_samples=1.0, \n",
    "    bootstrap=True, #*** bagging *** \n",
    "    n_jobs=-1,\n",
    "    random_state=42)\n",
    "\n",
    "bag_clf.fit(X_train, y_train)\n",
    "y_pred = bag_clf.predict(X_test)\n",
    "print(accuracy_score(y_test, y_pred))"
   ]
  },
  {
   "cell_type": "code",
   "execution_count": 15,
   "metadata": {
    "execution": {
     "iopub.execute_input": "2022-02-17T12:54:13.229856Z",
     "iopub.status.busy": "2022-02-17T12:54:13.229635Z",
     "iopub.status.idle": "2022-02-17T12:54:14.251325Z",
     "shell.execute_reply": "2022-02-17T12:54:14.250499Z"
    }
   },
   "outputs": [
    {
     "name": "stdout",
     "output_type": "stream",
     "text": [
      "0.912\n"
     ]
    }
   ],
   "source": [
    "# allows for compressed syntax \n",
    "from sklearn.ensemble import RandomForestClassifier\n",
    "\n",
    "rnd_clf = RandomForestClassifier(\n",
    "    n_estimators=500, #*** number of trees\n",
    "    max_leaf_nodes=16, #*** leaf nodes\n",
    "    n_jobs=-1, \n",
    "    random_state=42)\n",
    "\n",
    "rnd_clf.fit(X_train, y_train)\n",
    "y_pred_rf = rnd_clf.predict(X_test)\n",
    "\n",
    "print(accuracy_score(y_test, y_pred_rf))"
   ]
  },
  {
   "cell_type": "markdown",
   "metadata": {
    "slideshow": {
     "slide_type": "slide"
    }
   },
   "source": [
    "## Extremely Randomized Trees\n",
    "\n",
    "When you are growing a tree in a Random Forest, at each node only a random subset of the features is considered for splitting (as discussed earlier). \n",
    "\n",
    "It is possible to make trees even more random by also using _random thresholds_ for each feature rather than searching for the _best possible thresholds_ (like regular Decision Trees do).\n",
    "\n",
    "Implemented using ```ExtraTreesClassifier```\n",
    "\n",
    "Need to try all these for a given problem"
   ]
  },
  {
   "cell_type": "code",
   "execution_count": 16,
   "metadata": {
    "execution": {
     "iopub.execute_input": "2022-02-17T12:54:14.255260Z",
     "iopub.status.busy": "2022-02-17T12:54:14.254620Z",
     "iopub.status.idle": "2022-02-17T12:54:14.963725Z",
     "shell.execute_reply": "2022-02-17T12:54:14.963173Z"
    }
   },
   "outputs": [
    {
     "name": "stdout",
     "output_type": "stream",
     "text": [
      "0.912\n"
     ]
    }
   ],
   "source": [
    "from sklearn.ensemble import ExtraTreesClassifier\n",
    "\n",
    "rnd_clf = ExtraTreesClassifier(\n",
    "    n_estimators=500, \n",
    "    max_leaf_nodes=16, \n",
    "    n_jobs=-1, \n",
    "    random_state=42)\n",
    "\n",
    "rnd_clf.fit(X_train, y_train)\n",
    "y_pred_et = rnd_clf.predict(X_test)\n",
    "print(accuracy_score(y_test, y_pred_et))"
   ]
  },
  {
   "cell_type": "markdown",
   "metadata": {
    "slideshow": {
     "slide_type": "slide"
    }
   },
   "source": [
    "## Feature importance\n",
    "\n",
    "* Important features likely to appear closer to root of tree\n",
    "* Unimportant features likely to appear closer to leaves - if at all\n",
    "* Scikit can find **average depth** of feature appearance across all trees in an RF as an assessment of the importance\n",
    "\n",
    "* Accessed using ```feature_importances_``` variable in output\n",
    "* Fraction of samples associated with each node"
   ]
  },
  {
   "cell_type": "code",
   "execution_count": 17,
   "metadata": {
    "execution": {
     "iopub.execute_input": "2022-02-17T12:54:14.967642Z",
     "iopub.status.busy": "2022-02-17T12:54:14.967156Z",
     "iopub.status.idle": "2022-02-17T12:54:15.907583Z",
     "shell.execute_reply": "2022-02-17T12:54:15.906551Z"
    }
   },
   "outputs": [
    {
     "name": "stdout",
     "output_type": "stream",
     "text": [
      "sepal length (cm) = 0.11249225099876375\n",
      "sepal width (cm) = 0.02311928828251033\n",
      "petal length (cm) = 0.4410304643639577\n",
      "petal width (cm) = 0.4233579963547682\n"
     ]
    }
   ],
   "source": [
    "# rank features by importance in iris data (note switching to Iris from Moons)\n",
    "\n",
    "from sklearn.datasets import load_iris\n",
    "iris = load_iris()\n",
    "\n",
    "X=iris[\"data\"]\n",
    "y=iris[\"target\"]\n",
    "\n",
    "rnd_clf = RandomForestClassifier(\n",
    "    n_estimators=500, \n",
    "    n_jobs=-1, \n",
    "    random_state=42)\n",
    "\n",
    "rnd_clf.fit(X,y)\n",
    "\n",
    "#print out the importances \n",
    "for name, importance in zip(iris[\"feature_names\"], rnd_clf.feature_importances_): \n",
    "        print(name, \"=\", importance) "
   ]
  },
  {
   "cell_type": "markdown",
   "metadata": {
    "slideshow": {
     "slide_type": "slide"
    }
   },
   "source": [
    "## Boosting\n",
    "\n",
    "General term to mean combining several weak learners into a single strong learner.\n",
    "\n",
    "The general idea of most boosting methods is to train predictors sequentially, each trying to correct its predecessor. There are many boosting methods available, but by far the most popular are *AdaBoost* (adaptive boosting) and *gradient boosting*. \n",
    "\n"
   ]
  },
  {
   "cell_type": "markdown",
   "metadata": {
    "slideshow": {
     "slide_type": "slide"
    }
   },
   "source": [
    "## AdaBoost\n",
    "\n",
    "Takes the points that are underfitted from previous fit to re-weight the points in a new training instance.\n",
    "\n",
    "<img src=\"https://raw.githubusercontent.com/astro-informatics/course_mlbd_images/master/Lecture17_Images/adaboost.png\" alt=\"Drawing\" style=\"width: 500px;\"/>"
   ]
  },
  {
   "cell_type": "markdown",
   "metadata": {
    "slideshow": {
     "slide_type": "subslide"
    }
   },
   "source": [
    "AdaBoost pays more attention to training instances that predecessor underfitted - forces new predictors to concentrate more on the \"hard cases\".\n",
    "\n",
    "Disadvantage: results depend on previous classifier (sequential), so algo cannot be parallelized. Not great for scaling."
   ]
  },
  {
   "cell_type": "code",
   "execution_count": 18,
   "metadata": {
    "execution": {
     "iopub.execute_input": "2022-02-17T12:54:15.911338Z",
     "iopub.status.busy": "2022-02-17T12:54:15.910974Z",
     "iopub.status.idle": "2022-02-17T12:54:15.918718Z",
     "shell.execute_reply": "2022-02-17T12:54:15.918081Z"
    }
   },
   "outputs": [],
   "source": [
    "# Plot decision boundaries of five predictors on moons dataset\n",
    "import numpy as np\n",
    "import numpy.random as rnd\n",
    "import matplotlib.pyplot as plt\n",
    "\n",
    "from sklearn.model_selection import train_test_split\n",
    "from sklearn.datasets import make_moons\n",
    "\n",
    "# use moons dataset\n",
    "X, y = make_moons(n_samples=500, noise=0.30, random_state=42)\n",
    "\n",
    "X_train, X_test, y_train, y_test = train_test_split(X, y, random_state=42) "
   ]
  },
  {
   "cell_type": "code",
   "execution_count": 19,
   "metadata": {
    "execution": {
     "iopub.execute_input": "2022-02-17T12:54:15.922024Z",
     "iopub.status.busy": "2022-02-17T12:54:15.921819Z",
     "iopub.status.idle": "2022-02-17T12:54:17.897858Z",
     "shell.execute_reply": "2022-02-17T12:54:17.897198Z"
    }
   },
   "outputs": [
    {
     "data": {
      "image/png": "[encoded data removed]",
      "text/plain": [
       "<Figure size 792x288 with 2 Axes>"
      ]
     },
     "metadata": {
      "needs_background": "light"
     },
     "output_type": "display_data"
    }
   ],
   "source": [
    "m = len(X_train)\n",
    "_, (ax1, ax2) = plt.subplots(1, 2, figsize=(11, 4))\n",
    "for subplot, learning_rate in ((ax1, 1), (ax2, 0.5)): #change learning rate \n",
    "    sample_weights = np.ones(m)\n",
    "    for i in range(5):\n",
    "        \n",
    "        svm_clf = SVC(kernel=\"rbf\", C=0.05)  #use SVC classifications       \n",
    "        svm_clf.fit(X_train, y_train, sample_weight=sample_weights)\n",
    "        y_pred = svm_clf.predict(X_train) #make prediction\n",
    "        \n",
    "        #*** points not predicted are given higher weight ***\n",
    "        sample_weights[y_pred != y_train] *= (1 + learning_rate) \n",
    "        \n",
    "        plot_decision_boundary(subplot, svm_clf, X, y, alpha=0.2)\n",
    "        subplot.set_title(\"learning_rate = {}\".format(learning_rate - 1), fontsize=16)\n",
    "\n",
    "positions = [(-0.7, -0.65), (-0.6, -0.1), (-0.5, 0.25), (-0.4, 0.55), (-0.3, 1)]\n",
    "for count, (x_pos, y_pos) in enumerate(positions):\n",
    "    ax1.text(x_pos, y_pos, count+1, fontsize=20, color=\"deeppink\")"
   ]
  },
  {
   "cell_type": "markdown",
   "metadata": {
    "slideshow": {
     "slide_type": "subslide"
    }
   },
   "source": [
    "### Gradient Boosting \n",
    "\n",
    "Just like AdaBoost, Gradient Boosting works by sequentially adding predictors to an ensemble, each one correcting its predecessor. \n",
    "\n",
    "However, instead of tweaking the instance weights at every iteration like AdaBoost does, this method tries to fit the new predictor to the _residual errors_ made by the previous predictor.\n",
    "\n",
    "Example using Decision Trees as the base predictors (of course Gradient Boosting also works great with regression tasks). This is called Gradient Tree Boosting, or Gradient Boosted Regression Trees (GBRT)."
   ]
  },
  {
   "cell_type": "code",
   "execution_count": 20,
   "metadata": {
    "execution": {
     "iopub.execute_input": "2022-02-17T12:54:17.901952Z",
     "iopub.status.busy": "2022-02-17T12:54:17.901229Z",
     "iopub.status.idle": "2022-02-17T12:54:17.907810Z",
     "shell.execute_reply": "2022-02-17T12:54:17.907082Z"
    }
   },
   "outputs": [],
   "source": [
    "from sklearn.tree import DecisionTreeRegressor\n",
    "\n",
    "# training set: a noisy quadratic function\n",
    "rnd.seed(42)\n",
    "X = rnd.rand(100, 1) - 0.5\n",
    "y = 3*X[:, 0]**2 + 0.05 * rnd.randn(100)\n",
    "\n",
    "# train Regressor\n",
    "tree_reg1 = DecisionTreeRegressor(max_depth=2, random_state=42)\n",
    "tree_reg1.fit(X, y);"
   ]
  },
  {
   "cell_type": "code",
   "execution_count": 21,
   "metadata": {
    "execution": {
     "iopub.execute_input": "2022-02-17T12:54:17.911232Z",
     "iopub.status.busy": "2022-02-17T12:54:17.910885Z",
     "iopub.status.idle": "2022-02-17T12:54:17.917197Z",
     "shell.execute_reply": "2022-02-17T12:54:17.916622Z"
    }
   },
   "outputs": [],
   "source": [
    "# now train 2nd Regressor using errors made by 1st one.\n",
    "y2 = y - tree_reg1.predict(X) #residual from the first fit (data-prediction)\n",
    "tree_reg2 = DecisionTreeRegressor(max_depth=2, random_state=42)\n",
    "tree_reg2.fit(X, y2);"
   ]
  },
  {
   "cell_type": "code",
   "execution_count": 22,
   "metadata": {
    "execution": {
     "iopub.execute_input": "2022-02-17T12:54:17.920790Z",
     "iopub.status.busy": "2022-02-17T12:54:17.920428Z",
     "iopub.status.idle": "2022-02-17T12:54:17.926637Z",
     "shell.execute_reply": "2022-02-17T12:54:17.926023Z"
    }
   },
   "outputs": [],
   "source": [
    "# now train 3rd Regressor using errors made by 2nd one.\n",
    "y3 = y2 - tree_reg2.predict(X)\n",
    "tree_reg3 = DecisionTreeRegressor(max_depth=2, random_state=42)\n",
    "tree_reg3.fit(X, y3)\n",
    "\n",
    "X_new = np.array([[0.8]])\n",
    "\n",
    "# now have ensemble w/ three trees.\n",
    "y_pred = sum(tree.predict(X_new) for tree in (tree_reg1, tree_reg2, tree_reg3))"
   ]
  },
  {
   "cell_type": "code",
   "execution_count": 23,
   "metadata": {
    "execution": {
     "iopub.execute_input": "2022-02-17T12:54:17.930020Z",
     "iopub.status.busy": "2022-02-17T12:54:17.929720Z",
     "iopub.status.idle": "2022-02-17T12:54:18.806025Z",
     "shell.execute_reply": "2022-02-17T12:54:18.805285Z"
    }
   },
   "outputs": [
    {
     "data": {
      "image/png": "[encoded data removed]",
      "text/plain": [
       "<Figure size 792x792 with 6 Axes>"
      ]
     },
     "metadata": {
      "needs_background": "light"
     },
     "output_type": "display_data"
    }
   ],
   "source": [
    "def plot_predictions(\n",
    "    regressors, X, y, axes, \n",
    "    label=None, \n",
    "    style=\"r-\", \n",
    "    data_style=\"b.\", \n",
    "    data_label=None):\n",
    "    \n",
    "    x1 = np.linspace(axes[0], axes[1], 500)\n",
    "    \n",
    "    y_pred = sum(\n",
    "        regressor.predict(x1.reshape(-1, 1)) for regressor in regressors)\n",
    "            \n",
    "    plt.plot(X[:, 0], y, data_style, label=data_label)\n",
    "    plt.plot(x1, y_pred, style, linewidth=2, label=label)\n",
    "    if label or data_label:\n",
    "        plt.legend(loc=\"upper center\", fontsize=16)\n",
    "    plt.axis(axes)\n",
    "\n",
    "plt.figure(figsize=(11,11))\n",
    "\n",
    "plt.subplot(321)\n",
    "plot_predictions([tree_reg1], X, y, axes=[-0.5, 0.5, -0.1, 0.8], label=\"$h_1(x_1)$\", style=\"g-\", data_label=\"Training set\")\n",
    "plt.ylabel(\"$y$\", fontsize=16, rotation=0)\n",
    "plt.title(\"Residuals and tree predictions\", fontsize=16)\n",
    "\n",
    "plt.subplot(322)\n",
    "plot_predictions([tree_reg1], X, y, axes=[-0.5, 0.5, -0.1, 0.8], label=\"$h(x_1) = h_1(x_1)$\", data_label=\"Training set\")\n",
    "plt.ylabel(\"$y$\", fontsize=16, rotation=0)\n",
    "plt.title(\"Ensemble predictions\", fontsize=16)\n",
    "\n",
    "plt.subplot(323)\n",
    "plot_predictions([tree_reg2], X, y2, axes=[-0.5, 0.5, -0.5, 0.5], label=\"$h_2(x_1)$\", style=\"g-\", data_style=\"k+\", data_label=\"Residuals\")\n",
    "plt.ylabel(\"$y - h_1(x_1)$\", fontsize=16)\n",
    "\n",
    "plt.subplot(324)\n",
    "plot_predictions([tree_reg1, tree_reg2], X, y, axes=[-0.5, 0.5, -0.1, 0.8], label=\"$h(x_1) = h_1(x_1) + h_2(x_1)$\")\n",
    "plt.ylabel(\"$y$\", fontsize=16, rotation=0)\n",
    "\n",
    "plt.subplot(325)\n",
    "plot_predictions([tree_reg3], X, y3, axes=[-0.5, 0.5, -0.5, 0.5], label=\"$h_3(x_1)$\", style=\"g-\", data_style=\"k+\")\n",
    "plt.ylabel(\"$y - h_1(x_1) - h_2(x_1)$\", fontsize=16)\n",
    "plt.xlabel(\"$x_1$\", fontsize=16)\n",
    "\n",
    "plt.subplot(326)\n",
    "plot_predictions([tree_reg1, tree_reg2, tree_reg3], X, y, axes=[-0.5, 0.5, -0.1, 0.8], label=\"$h(x_1) = h_1(x_1) + h_2(x_1) + h_3(x_1)$\")\n",
    "plt.xlabel(\"$x_1$\", fontsize=16)\n",
    "plt.ylabel(\"$y$\", fontsize=16, rotation=0);"
   ]
  },
  {
   "cell_type": "markdown",
   "metadata": {
    "slideshow": {
     "slide_type": "subslide"
    }
   },
   "source": [
    "The ensemble’s predictions are equal to the sum of the predictions of the first two trees. Similarly, in the third row another tree is trained on the residual errors of the second tree. \n",
    "\n",
    "You can see that the ensemble’s predictions gradually get better as trees are added to the ensemble.\n",
    "\n"
   ]
  },
  {
   "cell_type": "code",
   "execution_count": 24,
   "metadata": {
    "execution": {
     "iopub.execute_input": "2022-02-17T12:54:18.811031Z",
     "iopub.status.busy": "2022-02-17T12:54:18.810230Z",
     "iopub.status.idle": "2022-02-17T12:54:18.819966Z",
     "shell.execute_reply": "2022-02-17T12:54:18.819236Z"
    }
   },
   "outputs": [],
   "source": [
    "#using inbuilt function \n",
    "\n",
    "from sklearn.ensemble import GradientBoostingRegressor \n",
    "#does same job as previous example\n",
    "\n",
    "#first create test and train data\n",
    "X_train, X_val, y_train, y_val = train_test_split(X, y)\n",
    "\n",
    "gbrt = GradientBoostingRegressor( max_depth = 2, n_estimators = 3, learning_rate = 1.0) \n",
    "gbrt.fit(X_train, y_train)\n",
    "y_pred_gbrt = gbrt.predict(X)"
   ]
  },
  {
   "cell_type": "markdown",
   "metadata": {
    "slideshow": {
     "slide_type": "subslide"
    }
   },
   "source": [
    "learning_rate param controls contribution of each tree. Low values (ex: 0.1) = need more trees in ensemble to fit training set, but predictions usually generalize better. (This is called shrinkage.)"
   ]
  },
  {
   "cell_type": "markdown",
   "metadata": {
    "slideshow": {
     "slide_type": "subslide"
    }
   },
   "source": [
    "However - want to avoid overfitting if there are too many trees. \n",
    "\n",
    "Use early stopping to achieve this."
   ]
  },
  {
   "cell_type": "code",
   "execution_count": 25,
   "metadata": {
    "execution": {
     "iopub.execute_input": "2022-02-17T12:54:18.823870Z",
     "iopub.status.busy": "2022-02-17T12:54:18.823284Z",
     "iopub.status.idle": "2022-02-17T12:54:18.872806Z",
     "shell.execute_reply": "2022-02-17T12:54:18.872023Z"
    }
   },
   "outputs": [],
   "source": [
    "from sklearn.model_selection import train_test_split\n",
    "from sklearn.metrics import mean_squared_error\n",
    "\n",
    "X_train, X_val, y_train, y_val = train_test_split(X, y)\n",
    "\n",
    "# train GRBR regressor with 120 trees\n",
    "gbrt = GradientBoostingRegressor(\n",
    "    max_depth=2, \n",
    "    n_estimators=120, \n",
    "    learning_rate=0.1, #set a low learning rate here\n",
    "    random_state=42)\n",
    "\n",
    "gbrt.fit(X_train, y_train)\n",
    "\n",
    "# measure MSE validation error at each stage\n",
    "errors = [mean_squared_error(y_val, y_pred) for y_pred in gbrt.staged_predict(X_val)]"
   ]
  },
  {
   "cell_type": "code",
   "execution_count": 26,
   "metadata": {
    "execution": {
     "iopub.execute_input": "2022-02-17T12:54:18.877483Z",
     "iopub.status.busy": "2022-02-17T12:54:18.876939Z",
     "iopub.status.idle": "2022-02-17T12:54:18.886181Z",
     "shell.execute_reply": "2022-02-17T12:54:18.885436Z"
    }
   },
   "outputs": [
    {
     "data": {
      "text/plain": [
       "[0.04842467352697948,\n",
       " 0.0398597888673483,\n",
       " 0.03302449818606398,\n",
       " 0.02806997111382858,\n",
       " 0.02339630299079877,\n",
       " 0.01999633340157489,\n",
       " 0.016779414028823922,\n",
       " 0.014561646177542728,\n",
       " 0.012926283191922123,\n",
       " 0.011628235107060722,\n",
       " 0.010081620906878525,\n",
       " 0.009223451159716355,\n",
       " 0.008300187610733945,\n",
       " 0.007571087126619502,\n",
       " 0.0070673893584988386,\n",
       " 0.00653803624238612,\n",
       " 0.006077383056688492,\n",
       " 0.005771844373433087,\n",
       " 0.005447427461093806,\n",
       " 0.005157213176498388,\n",
       " 0.004901417886199436,\n",
       " 0.00471558200264981,\n",
       " 0.00453619528497803,\n",
       " 0.004448088027052898,\n",
       " 0.004333234279094477,\n",
       " 0.004321963799769775,\n",
       " 0.004234959375173162,\n",
       " 0.0041796582153428635,\n",
       " 0.004143037112191631,\n",
       " 0.004141154498016911,\n",
       " 0.004128791217148569,\n",
       " 0.004107175329801018,\n",
       " 0.004014536589179014,\n",
       " 0.0039256151671253105,\n",
       " 0.003961416922115985,\n",
       " 0.003975276013805897,\n",
       " 0.003983348908362086,\n",
       " 0.003978833421674226,\n",
       " 0.003985927436966969,\n",
       " 0.003942767915232586,\n",
       " 0.003918667730764782,\n",
       " 0.003965542510379509,\n",
       " 0.003996847403739675,\n",
       " 0.0040231937477197156,\n",
       " 0.004043510015211655,\n",
       " 0.004016568866299469,\n",
       " 0.003991778386495649,\n",
       " 0.0039696464380700215,\n",
       " 0.003957826442311729,\n",
       " 0.003949451446114782,\n",
       " 0.003937743554124201,\n",
       " 0.003968501662703449,\n",
       " 0.00396871843763553,\n",
       " 0.003961353179463888,\n",
       " 0.003963912132120236,\n",
       " 0.003982904822306835,\n",
       " 0.004001690844490727,\n",
       " 0.003956479274943806,\n",
       " 0.003969829902352615,\n",
       " 0.0039533385902412645,\n",
       " 0.003940102429679151,\n",
       " 0.003932109051008085,\n",
       " 0.003946324314780319,\n",
       " 0.003962219380294719,\n",
       " 0.003948009700372452,\n",
       " 0.0039713819298855145,\n",
       " 0.003957789472963308,\n",
       " 0.003961834356196769,\n",
       " 0.003958844745369682,\n",
       " 0.003955050110248583,\n",
       " 0.003953477440810013,\n",
       " 0.003955311063037612,\n",
       " 0.003950448823257094,\n",
       " 0.003948349623503619,\n",
       " 0.003940037092325396,\n",
       " 0.003942652186029361,\n",
       " 0.003941204235872356,\n",
       " 0.00393933695266674,\n",
       " 0.003941598270842932,\n",
       " 0.003940569243365709,\n",
       " 0.003934105305741705,\n",
       " 0.0039374940126769755,\n",
       " 0.003941056609126954,\n",
       " 0.003940366763643821,\n",
       " 0.003951308776719087,\n",
       " 0.003961517134810976,\n",
       " 0.003983768167127596,\n",
       " 0.003993719225042675,\n",
       " 0.003992160983197414,\n",
       " 0.003981761200039636,\n",
       " 0.003996615644899456,\n",
       " 0.004020538183235901,\n",
       " 0.004019148364444538,\n",
       " 0.00402301488510529,\n",
       " 0.004013114937526144,\n",
       " 0.004012490160900592,\n",
       " 0.004017148935131448,\n",
       " 0.004057667655213264,\n",
       " 0.004055895706575979,\n",
       " 0.004058868686648048,\n",
       " 0.004049177026155464,\n",
       " 0.004051605564644675,\n",
       " 0.0040493477677183785,\n",
       " 0.004051934367134858,\n",
       " 0.00407380282494179,\n",
       " 0.004111053657550034,\n",
       " 0.004110548013139875,\n",
       " 0.004112905877913402,\n",
       " 0.004119445780080421,\n",
       " 0.004118982059791622,\n",
       " 0.0041144612725977,\n",
       " 0.00412908905796833,\n",
       " 0.004134319750697183,\n",
       " 0.00413253391505781,\n",
       " 0.004134930867918657,\n",
       " 0.0041293666649405624,\n",
       " 0.004131337042080407,\n",
       " 0.004122846152570361,\n",
       " 0.004127930561507074,\n",
       " 0.004135613528757211]"
      ]
     },
     "execution_count": 26,
     "metadata": {},
     "output_type": "execute_result"
    }
   ],
   "source": [
    "errors"
   ]
  },
  {
   "cell_type": "code",
   "execution_count": 27,
   "metadata": {
    "execution": {
     "iopub.execute_input": "2022-02-17T12:54:18.889552Z",
     "iopub.status.busy": "2022-02-17T12:54:18.889339Z",
     "iopub.status.idle": "2022-02-17T12:54:18.895332Z",
     "shell.execute_reply": "2022-02-17T12:54:18.894678Z"
    }
   },
   "outputs": [
    {
     "name": "stdout",
     "output_type": "stream",
     "text": [
      "40\n",
      "0.003918667730764782\n"
     ]
    }
   ],
   "source": [
    "best_n_estimators = np.argmin(errors)\n",
    "print(best_n_estimators)\n",
    "min_error = errors[best_n_estimators]\n",
    "print(min_error)"
   ]
  },
  {
   "cell_type": "markdown",
   "metadata": {
    "slideshow": {
     "slide_type": "subslide"
    },
    "tags": [
     "exercise_pointer"
    ]
   },
   "source": [
    "**Exercises:** *You can now complete Exercise 1 in the exercises associated with this lecture.*"
   ]
  },
  {
   "cell_type": "markdown",
   "metadata": {
    "slideshow": {
     "slide_type": "subslide"
    }
   },
   "source": [
    "### Stacking (or Meta Learning)\n",
    "\n",
    "Final method is to use stacking (stacked generalisation). \n",
    "\n",
    "Instead of using simple functions to perform agregation can actually use a learner to find the optimal combination. \n",
    "\n",
    "Done by a _blender_ or _meta learner_.\n"
   ]
  },
  {
   "cell_type": "markdown",
   "metadata": {
    "slideshow": {
     "slide_type": "subslide"
    }
   },
   "source": [
    "<img src=\"https://raw.githubusercontent.com/astro-informatics/course_mlbd_images/master/Lecture17_Images/blender.png\" alt=\"Drawing\" style=\"width: 500px;\"/>"
   ]
  },
  {
   "cell_type": "markdown",
   "metadata": {
    "slideshow": {
     "slide_type": "subslide"
    }
   },
   "source": [
    "<img src=\"https://raw.githubusercontent.com/astro-informatics/course_mlbd_images/master/Lecture17_Images/blender2.png\" alt=\"Drawing\" style=\"width: 500px;\"/>"
   ]
  },
  {
   "cell_type": "markdown",
   "metadata": {
    "slideshow": {
     "slide_type": "subslide"
    }
   },
   "source": [
    "No current implementation of stacking in SciKit Learn"
   ]
  }
 ],
 "metadata": {
  "celltoolbar": "Tags",
  "kernelspec": {
   "display_name": "Python 3 (ipykernel)",
   "language": "python",
   "name": "python3"
  },
  "language_info": {
   "codemirror_mode": {
    "name": "ipython",
    "version": 3
   },
   "file_extension": ".py",
   "mimetype": "text/x-python",
   "name": "python",
   "nbconvert_exporter": "python",
   "pygments_lexer": "ipython3",
   "version": "3.8.12"
  }
 },
 "nbformat": 4,
 "nbformat_minor": 4
}
