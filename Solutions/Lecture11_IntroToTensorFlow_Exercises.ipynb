{
 "cells": [
  {
   "cell_type": "markdown",
   "metadata": {
    "slideshow": {
     "slide_type": "slide"
    }
   },
   "source": [
    "# Exercises for Lecture 11 (Introduction to TensorFlow)"
   ]
  },
  {
   "cell_type": "code",
   "execution_count": 1,
   "metadata": {
    "execution": {
     "iopub.execute_input": "2022-02-04T11:53:26.440589Z",
     "iopub.status.busy": "2022-02-04T11:53:26.440130Z",
     "iopub.status.idle": "2022-02-04T11:53:26.448302Z",
     "shell.execute_reply": "2022-02-04T11:53:26.448666Z"
    }
   },
   "outputs": [
    {
     "name": "stdout",
     "output_type": "stream",
     "text": [
      "Last executed: 2022-02-04 11:53:26\n"
     ]
    }
   ],
   "source": [
    "import datetime\n",
    "now = datetime.datetime.now()\n",
    "print(\"Last executed: \" + now.strftime(\"%Y-%m-%d %H:%M:%S\"))"
   ]
  },
  {
   "cell_type": "code",
   "execution_count": 2,
   "metadata": {
    "execution": {
     "iopub.execute_input": "2022-02-04T11:53:26.452030Z",
     "iopub.status.busy": "2022-02-04T11:53:26.451541Z",
     "iopub.status.idle": "2022-02-04T11:53:28.161196Z",
     "shell.execute_reply": "2022-02-04T11:53:28.160352Z"
    }
   },
   "outputs": [
    {
     "name": "stderr",
     "output_type": "stream",
     "text": [
      "2022-02-04 11:53:26.630186: W tensorflow/stream_executor/platform/default/dso_loader.cc:64] Could not load dynamic library 'libcudart.so.11.0'; dlerror: libcudart.so.11.0: cannot open shared object file: No such file or directory\n",
      "2022-02-04 11:53:26.630212: I tensorflow/stream_executor/cuda/cudart_stub.cc:29] Ignore above cudart dlerror if you do not have a GPU set up on your machine.\n"
     ]
    }
   ],
   "source": [
    "import numpy as np\n",
    "import tensorflow as tf"
   ]
  },
  {
   "cell_type": "markdown",
   "metadata": {},
   "source": [
    "## Exercise 1: Linear regression"
   ]
  },
  {
   "cell_type": "markdown",
   "metadata": {},
   "source": [
    "### Load housing data"
   ]
  },
  {
   "cell_type": "markdown",
   "metadata": {},
   "source": [
    "Load the California housing regression dataset."
   ]
  },
  {
   "cell_type": "code",
   "execution_count": 3,
   "metadata": {
    "execution": {
     "iopub.execute_input": "2022-02-04T11:53:28.165471Z",
     "iopub.status.busy": "2022-02-04T11:53:28.164664Z",
     "iopub.status.idle": "2022-02-04T11:53:30.058237Z",
     "shell.execute_reply": "2022-02-04T11:53:30.058899Z"
    }
   },
   "outputs": [
    {
     "data": {
      "text/plain": [
       "(20640, 8)"
      ]
     },
     "execution_count": 3,
     "metadata": {},
     "output_type": "execute_result"
    }
   ],
   "source": [
    "from sklearn.datasets import fetch_california_housing\n",
    "\n",
    "housing = fetch_california_housing()\n",
    "m, n = housing.data.shape\n",
    "(m, n)"
   ]
  },
  {
   "cell_type": "code",
   "execution_count": 4,
   "metadata": {
    "execution": {
     "iopub.execute_input": "2022-02-04T11:53:30.063011Z",
     "iopub.status.busy": "2022-02-04T11:53:30.062566Z",
     "iopub.status.idle": "2022-02-04T11:53:30.066887Z",
     "shell.execute_reply": "2022-02-04T11:53:30.066468Z"
    }
   },
   "outputs": [
    {
     "data": {
      "text/plain": [
       "(20640,)"
      ]
     },
     "execution_count": 4,
     "metadata": {},
     "output_type": "execute_result"
    }
   ],
   "source": [
    "housing.target.shape"
   ]
  },
  {
   "cell_type": "code",
   "execution_count": 5,
   "metadata": {
    "execution": {
     "iopub.execute_input": "2022-02-04T11:53:30.070656Z",
     "iopub.status.busy": "2022-02-04T11:53:30.070216Z",
     "iopub.status.idle": "2022-02-04T11:53:30.074569Z",
     "shell.execute_reply": "2022-02-04T11:53:30.074196Z"
    }
   },
   "outputs": [
    {
     "data": {
      "text/plain": [
       "['MedInc',\n",
       " 'HouseAge',\n",
       " 'AveRooms',\n",
       " 'AveBedrms',\n",
       " 'Population',\n",
       " 'AveOccup',\n",
       " 'Latitude',\n",
       " 'Longitude']"
      ]
     },
     "execution_count": 5,
     "metadata": {},
     "output_type": "execute_result"
    }
   ],
   "source": [
    "housing.feature_names"
   ]
  },
  {
   "cell_type": "markdown",
   "metadata": {},
   "source": [
    "The dataset contains 8 features (displayed above) contained in `housing.data` that can be used to predict house prices (in units of $100,000), which are contained in `housing.targets`."
   ]
  },
  {
   "cell_type": "markdown",
   "metadata": {},
   "source": [
    "### Set up data (add bias and reshape data)"
   ]
  },
  {
   "cell_type": "code",
   "execution_count": 6,
   "metadata": {
    "execution": {
     "iopub.execute_input": "2022-02-04T11:53:30.078416Z",
     "iopub.status.busy": "2022-02-04T11:53:30.077699Z",
     "iopub.status.idle": "2022-02-04T11:53:30.080390Z",
     "shell.execute_reply": "2022-02-04T11:53:30.080038Z"
    }
   },
   "outputs": [],
   "source": [
    "housing_data_plus_bias = np.c_[np.ones((m, 1)), housing.data]\n",
    "housing_data_target = housing.target.reshape(-1, 1)"
   ]
  },
  {
   "cell_type": "code",
   "execution_count": 7,
   "metadata": {
    "execution": {
     "iopub.execute_input": "2022-02-04T11:53:30.083941Z",
     "iopub.status.busy": "2022-02-04T11:53:30.083496Z",
     "iopub.status.idle": "2022-02-04T11:53:30.086378Z",
     "shell.execute_reply": "2022-02-04T11:53:30.086030Z"
    }
   },
   "outputs": [
    {
     "data": {
      "text/plain": [
       "((20640, 1), (20640, 9))"
      ]
     },
     "execution_count": 7,
     "metadata": {},
     "output_type": "execute_result"
    }
   ],
   "source": [
    "housing_data_target.shape, housing_data_plus_bias.shape"
   ]
  },
  {
   "cell_type": "markdown",
   "metadata": {},
   "source": [
    "Fit a linear regression model to the data, using a Scikit Learn LinearRegression model and then by computing the analytic solution using numpy and TensorFlow.  \n",
    "\n",
    "Compare the fitted model between the different computations to ensure you get similar model parameters."
   ]
  },
  {
   "cell_type": "markdown",
   "metadata": {
    "slideshow": {
     "slide_type": "subslide"
    }
   },
   "source": [
    "### Exercise 1a: Fit a linear regression model using Scikit Learn"
   ]
  },
  {
   "cell_type": "markdown",
   "metadata": {},
   "source": [
    "Use the Scikit Learn LinearRegression model."
   ]
  },
  {
   "cell_type": "code",
   "execution_count": 8,
   "metadata": {
    "execution": {
     "iopub.execute_input": "2022-02-04T11:53:30.091605Z",
     "iopub.status.busy": "2022-02-04T11:53:30.089618Z",
     "iopub.status.idle": "2022-02-04T11:53:30.126020Z",
     "shell.execute_reply": "2022-02-04T11:53:30.126764Z"
    },
    "tags": [
     "solution"
    ]
   },
   "outputs": [
    {
     "name": "stdout",
     "output_type": "stream",
     "text": [
      "[[-3.69419202e+01]\n",
      " [ 4.36693293e-01]\n",
      " [ 9.43577803e-03]\n",
      " [-1.07322041e-01]\n",
      " [ 6.45065694e-01]\n",
      " [-3.97638942e-06]\n",
      " [-3.78654265e-03]\n",
      " [-4.21314378e-01]\n",
      " [-4.34513755e-01]]\n"
     ]
    }
   ],
   "source": [
    "from sklearn.linear_model import LinearRegression\n",
    "lin_reg = LinearRegression()\n",
    "lin_reg.fit(housing.data, housing_data_target)\n",
    "print(np.r_[lin_reg.intercept_.reshape(-1, 1), lin_reg.coef_.T])"
   ]
  },
  {
   "cell_type": "markdown",
   "metadata": {
    "slideshow": {
     "slide_type": "subslide"
    }
   },
   "source": [
    "### Exercise 1b: Fit a linear regression model using numpy"
   ]
  },
  {
   "cell_type": "markdown",
   "metadata": {},
   "source": [
    "Solve the normal equations analytically."
   ]
  },
  {
   "cell_type": "code",
   "execution_count": 9,
   "metadata": {
    "execution": {
     "iopub.execute_input": "2022-02-04T11:53:30.131221Z",
     "iopub.status.busy": "2022-02-04T11:53:30.130766Z",
     "iopub.status.idle": "2022-02-04T11:53:30.135105Z",
     "shell.execute_reply": "2022-02-04T11:53:30.135451Z"
    },
    "tags": [
     "solution"
    ]
   },
   "outputs": [
    {
     "name": "stdout",
     "output_type": "stream",
     "text": [
      "[[-3.69419202e+01]\n",
      " [ 4.36693293e-01]\n",
      " [ 9.43577803e-03]\n",
      " [-1.07322041e-01]\n",
      " [ 6.45065694e-01]\n",
      " [-3.97638942e-06]\n",
      " [-3.78654265e-03]\n",
      " [-4.21314378e-01]\n",
      " [-4.34513755e-01]]\n"
     ]
    }
   ],
   "source": [
    "X = housing_data_plus_bias\n",
    "y = housing_data_target\n",
    "theta_numpy = np.linalg.inv(X.T.dot(X)).dot(X.T).dot(y)\n",
    "print(theta_numpy)"
   ]
  },
  {
   "cell_type": "markdown",
   "metadata": {},
   "source": [
    "### Exercise 1c: Fit a linear regression model using TensorFlow"
   ]
  },
  {
   "cell_type": "markdown",
   "metadata": {},
   "source": [
    "Solve the normal equations analytically."
   ]
  },
  {
   "cell_type": "code",
   "execution_count": 10,
   "metadata": {
    "execution": {
     "iopub.execute_input": "2022-02-04T11:53:30.141211Z",
     "iopub.status.busy": "2022-02-04T11:53:30.140757Z",
     "iopub.status.idle": "2022-02-04T11:53:30.207362Z",
     "shell.execute_reply": "2022-02-04T11:53:30.207971Z"
    },
    "tags": [
     "solution"
    ]
   },
   "outputs": [
    {
     "name": "stdout",
     "output_type": "stream",
     "text": [
      "tf.Tensor(\n",
      "[[-3.71679459e+01]\n",
      " [ 4.36065614e-01]\n",
      " [ 9.39804502e-03]\n",
      " [-1.06580436e-01]\n",
      " [ 6.42261207e-01]\n",
      " [-4.06296385e-06]\n",
      " [-3.78040830e-03]\n",
      " [-4.23595876e-01]\n",
      " [-4.37090367e-01]], shape=(9, 1), dtype=float32)\n"
     ]
    },
    {
     "name": "stderr",
     "output_type": "stream",
     "text": [
      "2022-02-04 11:53:30.138835: W tensorflow/stream_executor/platform/default/dso_loader.cc:64] Could not load dynamic library 'libcuda.so.1'; dlerror: libcuda.so.1: cannot open shared object file: No such file or directory\n",
      "2022-02-04 11:53:30.138863: W tensorflow/stream_executor/cuda/cuda_driver.cc:269] failed call to cuInit: UNKNOWN ERROR (303)\n",
      "2022-02-04 11:53:30.138880: I tensorflow/stream_executor/cuda/cuda_diagnostics.cc:156] kernel driver does not appear to be running on this host (fv-az91-45): /proc/driver/nvidia/version does not exist\n",
      "2022-02-04 11:53:30.139159: I tensorflow/core/platform/cpu_feature_guard.cc:151] This TensorFlow binary is optimized with oneAPI Deep Neural Network Library (oneDNN) to use the following CPU instructions in performance-critical operations:  AVX2 AVX512F FMA\n",
      "To enable them in other operations, rebuild TensorFlow with the appropriate compiler flags.\n"
     ]
    }
   ],
   "source": [
    "X = tf.constant(housing_data_plus_bias, dtype=tf.float32, name=\"X\")\n",
    "y = tf.constant(housing_data_target, dtype=tf.float32, name=\"y\")\n",
    "XT = tf.transpose(X)\n",
    "theta_tf = tf.matmul(tf.matmul(tf.linalg.inv(tf.matmul(XT, X)), XT), y)\n",
    "print(theta_tf)"
   ]
  },
  {
   "cell_type": "markdown",
   "metadata": {
    "slideshow": {
     "slide_type": "subslide"
    }
   },
   "source": [
    "## Exercise 2: Compute gradients\n",
    "\n",
    "Compute the partial derivatives of the following function (`my_func`) at `(a,b) = (0.2,0.3)` by:\n",
    "1. numerical integration \n",
    "2. Autodiff in TensorFlow \n",
    "\n",
    "Check you get the same answer in both cases."
   ]
  },
  {
   "cell_type": "code",
   "execution_count": 11,
   "metadata": {
    "execution": {
     "iopub.execute_input": "2022-02-04T11:53:30.210800Z",
     "iopub.status.busy": "2022-02-04T11:53:30.210355Z",
     "iopub.status.idle": "2022-02-04T11:53:30.214205Z",
     "shell.execute_reply": "2022-02-04T11:53:30.214795Z"
    }
   },
   "outputs": [],
   "source": [
    "def my_func(a, b):\n",
    "    z = 0.0\n",
    "    for i in range(100):\n",
    "        z = a * np.cos(z + i) + z * np.sin(b - i)\n",
    "    return z"
   ]
  },
  {
   "cell_type": "markdown",
   "metadata": {},
   "source": [
    "### Compute by numerical integration"
   ]
  },
  {
   "cell_type": "code",
   "execution_count": 12,
   "metadata": {
    "execution": {
     "iopub.execute_input": "2022-02-04T11:53:30.217713Z",
     "iopub.status.busy": "2022-02-04T11:53:30.216878Z",
     "iopub.status.idle": "2022-02-04T11:53:30.225341Z",
     "shell.execute_reply": "2022-02-04T11:53:30.225932Z"
    },
    "tags": [
     "solution"
    ]
   },
   "outputs": [
    {
     "data": {
      "text/plain": [
       "(-1.138390186170457, 0.19675140591134677)"
      ]
     },
     "execution_count": 12,
     "metadata": {},
     "output_type": "execute_result"
    }
   ],
   "source": [
    "delta = 0.01\n",
    "f = my_func\n",
    "df_da = (f(0.2+delta,0.3) - f(0.2-delta,0.3))/(2*delta)\n",
    "df_db = (f(0.2,0.3+delta) - f(0.2,0.3-delta))/(2*delta)\n",
    "df_da, df_db"
   ]
  },
  {
   "cell_type": "markdown",
   "metadata": {},
   "source": [
    "### Compute using Autodiff in TensorFlow"
   ]
  },
  {
   "cell_type": "code",
   "execution_count": 13,
   "metadata": {
    "execution": {
     "iopub.execute_input": "2022-02-04T11:53:30.229679Z",
     "iopub.status.busy": "2022-02-04T11:53:30.227917Z",
     "iopub.status.idle": "2022-02-04T11:53:30.232942Z",
     "shell.execute_reply": "2022-02-04T11:53:30.233467Z"
    },
    "tags": [
     "solution"
    ]
   },
   "outputs": [],
   "source": [
    "a = tf.Variable(0.2, name=\"a\")\n",
    "b = tf.Variable(0.3, name=\"b\")"
   ]
  },
  {
   "cell_type": "code",
   "execution_count": 14,
   "metadata": {
    "execution": {
     "iopub.execute_input": "2022-02-04T11:53:30.237456Z",
     "iopub.status.busy": "2022-02-04T11:53:30.237023Z",
     "iopub.status.idle": "2022-02-04T11:53:30.291402Z",
     "shell.execute_reply": "2022-02-04T11:53:30.290607Z"
    },
    "tags": [
     "solution"
    ]
   },
   "outputs": [
    {
     "name": "stdout",
     "output_type": "stream",
     "text": [
      "[<tf.Tensor: shape=(), dtype=float32, numpy=-1.1388494>, <tf.Tensor: shape=(), dtype=float32, numpy=0.19671395>]\n"
     ]
    }
   ],
   "source": [
    "with tf.GradientTape() as t:\n",
    "    z = 0.0\n",
    "    for i in range(100):\n",
    "        z = a * tf.cos(z + i) + z * tf.sin(b - i)\n",
    "    \n",
    "gradients = t.gradient(z, [a, b])\n",
    "print(gradients)"
   ]
  }
 ],
 "metadata": {
  "celltoolbar": "Tags",
  "kernelspec": {
   "display_name": "Python 3",
   "language": "python",
   "name": "python3"
  },
  "language_info": {
   "codemirror_mode": {
    "name": "ipython",
    "version": 3
   },
   "file_extension": ".py",
   "mimetype": "text/x-python",
   "name": "python",
   "nbconvert_exporter": "python",
   "pygments_lexer": "ipython3",
   "version": "3.8.12"
  }
 },
 "nbformat": 4,
 "nbformat_minor": 4
}
