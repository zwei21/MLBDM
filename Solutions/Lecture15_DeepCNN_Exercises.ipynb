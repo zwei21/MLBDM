{
 "cells": [
  {
   "cell_type": "markdown",
   "id": "c1c2c049-4d1c-4a46-b035-b3f477aace8d",
   "metadata": {},
   "source": [
    "# Exercises for Lecture 15 (Deep CNN architectures)"
   ]
  },
  {
   "cell_type": "code",
   "execution_count": 1,
   "id": "ea8f9065-2320-422b-8a8c-a55d7fd726a3",
   "metadata": {
    "execution": {
     "iopub.execute_input": "2022-02-14T21:56:05.659849Z",
     "iopub.status.busy": "2022-02-14T21:56:05.659598Z",
     "iopub.status.idle": "2022-02-14T21:56:07.678144Z",
     "shell.execute_reply": "2022-02-14T21:56:07.677499Z"
    }
   },
   "outputs": [
    {
     "name": "stderr",
     "output_type": "stream",
     "text": [
      "2022-02-14 21:56:05.873510: W tensorflow/stream_executor/platform/default/dso_loader.cc:64] Could not load dynamic library 'libcudart.so.11.0'; dlerror: libcudart.so.11.0: cannot open shared object file: No such file or directory\n",
      "2022-02-14 21:56:05.873557: I tensorflow/stream_executor/cuda/cudart_stub.cc:29] Ignore above cudart dlerror if you do not have a GPU set up on your machine.\n"
     ]
    }
   ],
   "source": [
    "import numpy as np\n",
    "import tensorflow as tf\n",
    "from tensorflow import keras\n",
    "from functools import partial\n",
    "\n",
    "# To make this notebook's output stable across runs\n",
    "def reset_state(seed=42):\n",
    "    tf.keras.backend.clear_session()\n",
    "    tf.random.set_seed(seed)\n",
    "    np.random.seed(seed)"
   ]
  },
  {
   "cell_type": "markdown",
   "id": "c5dc69f6-efea-4b71-9746-25ca8d347132",
   "metadata": {
    "slideshow": {
     "slide_type": "subslide"
    }
   },
   "source": [
    "## Exercise 1: Build a ResNet CNN architecture for fashion MNIST."
   ]
  },
  {
   "cell_type": "markdown",
   "id": "9fa998f5-7e8e-4cd6-a335-13a146c49de3",
   "metadata": {},
   "source": [
    "Load and set up data."
   ]
  },
  {
   "cell_type": "code",
   "execution_count": 2,
   "id": "b7fd0854-0e6f-4d4a-838b-506c4a26268c",
   "metadata": {
    "execution": {
     "iopub.execute_input": "2022-02-14T21:56:07.682379Z",
     "iopub.status.busy": "2022-02-14T21:56:07.682182Z",
     "iopub.status.idle": "2022-02-14T21:56:08.594059Z",
     "shell.execute_reply": "2022-02-14T21:56:08.593401Z"
    }
   },
   "outputs": [],
   "source": [
    "# Load fashion MNIST data\n",
    "(X_train_full, y_train_full), (X_test, y_test) = keras.datasets.fashion_mnist.load_data()\n",
    "X_train, X_valid = X_train_full[:-30000], X_train_full[-30000:]\n",
    "y_train, y_valid = y_train_full[:-30000], y_train_full[-30000:]\n",
    "\n",
    "# Standardize\n",
    "X_mean = X_train.mean(axis=0, keepdims=True)\n",
    "X_std = X_train.std(axis=0, keepdims=True) + 1e-7\n",
    "X_train = (X_train - X_mean) / X_std\n",
    "X_valid = (X_valid - X_mean) / X_std\n",
    "X_test = (X_test - X_mean) / X_std\n",
    "\n",
    "# Add final channel axis (one channel)\n",
    "X_train = X_train[..., np.newaxis]\n",
    "X_valid = X_valid[..., np.newaxis]\n",
    "X_test = X_test[..., np.newaxis]"
   ]
  },
  {
   "cell_type": "markdown",
   "id": "4362c522-3172-4fc9-9265-761cccad73cc",
   "metadata": {},
   "source": [
    "Use the subclassing API to define a `ResidualUnit` layer."
   ]
  },
  {
   "cell_type": "code",
   "execution_count": 3,
   "id": "e1843a79-8e3f-4f59-a1b1-ad3e62001c29",
   "metadata": {
    "execution": {
     "iopub.execute_input": "2022-02-14T21:56:08.598292Z",
     "iopub.status.busy": "2022-02-14T21:56:08.597919Z",
     "iopub.status.idle": "2022-02-14T21:56:08.605853Z",
     "shell.execute_reply": "2022-02-14T21:56:08.605304Z"
    },
    "tags": [
     "solution"
    ]
   },
   "outputs": [],
   "source": [
    "DefaultConv2D = partial(keras.layers.Conv2D, kernel_size=3, strides=1,\n",
    "                        padding=\"SAME\", use_bias=False)\n",
    "\n",
    "class ResidualUnit(keras.layers.Layer):\n",
    "    def __init__(self, filters, strides=1, activation=\"relu\", **kwargs):\n",
    "        super().__init__(**kwargs)\n",
    "        self.activation = keras.activations.get(activation)\n",
    "        self.main_layers = [\n",
    "            DefaultConv2D(filters, strides=strides),\n",
    "            keras.layers.BatchNormalization(),\n",
    "            self.activation,\n",
    "            DefaultConv2D(filters),\n",
    "            keras.layers.BatchNormalization()]\n",
    "        self.skip_layers = []\n",
    "        if strides > 1:\n",
    "            self.skip_layers = [\n",
    "                DefaultConv2D(filters, kernel_size=1, strides=strides),\n",
    "                keras.layers.BatchNormalization()]\n",
    "\n",
    "    def call(self, inputs):\n",
    "        Z = inputs\n",
    "        for layer in self.main_layers:\n",
    "            Z = layer(Z)\n",
    "        skip_Z = inputs\n",
    "        for layer in self.skip_layers:\n",
    "            skip_Z = layer(skip_Z)\n",
    "        return self.activation(Z + skip_Z)"
   ]
  },
  {
   "cell_type": "markdown",
   "id": "dd33a8d1-af2f-49cc-ad73-8b447c07955f",
   "metadata": {},
   "source": [
    "Buid a ResNet model using the layer you defined above."
   ]
  },
  {
   "cell_type": "code",
   "execution_count": 4,
   "id": "aec54c81-bec8-4456-9a17-29473978c4b7",
   "metadata": {
    "execution": {
     "iopub.execute_input": "2022-02-14T21:56:08.608734Z",
     "iopub.status.busy": "2022-02-14T21:56:08.608352Z",
     "iopub.status.idle": "2022-02-14T21:56:08.853107Z",
     "shell.execute_reply": "2022-02-14T21:56:08.852471Z"
    },
    "tags": [
     "solution"
    ]
   },
   "outputs": [
    {
     "name": "stderr",
     "output_type": "stream",
     "text": [
      "2022-02-14 21:56:08.615490: W tensorflow/stream_executor/platform/default/dso_loader.cc:64] Could not load dynamic library 'libcuda.so.1'; dlerror: libcuda.so.1: cannot open shared object file: No such file or directory\n",
      "2022-02-14 21:56:08.615524: W tensorflow/stream_executor/cuda/cuda_driver.cc:269] failed call to cuInit: UNKNOWN ERROR (303)\n",
      "2022-02-14 21:56:08.615548: I tensorflow/stream_executor/cuda/cuda_diagnostics.cc:156] kernel driver does not appear to be running on this host (fv-az75-959): /proc/driver/nvidia/version does not exist\n",
      "2022-02-14 21:56:08.615828: I tensorflow/core/platform/cpu_feature_guard.cc:151] This TensorFlow binary is optimized with oneAPI Deep Neural Network Library (oneDNN) to use the following CPU instructions in performance-critical operations:  AVX2 AVX512F FMA\n",
      "To enable them in other operations, rebuild TensorFlow with the appropriate compiler flags.\n"
     ]
    }
   ],
   "source": [
    "model = keras.models.Sequential()\n",
    "model.add(DefaultConv2D(64, kernel_size=7, strides=2,\n",
    "                        input_shape=[28, 28, 1]))\n",
    "model.add(keras.layers.BatchNormalization())\n",
    "model.add(keras.layers.Activation(\"relu\"))\n",
    "model.add(keras.layers.MaxPool2D(pool_size=2, strides=2, padding=\"SAME\"))\n",
    "prev_filters = 64\n",
    "for filters in [64] * 2 + [128] * 2:\n",
    "    strides = 1 if filters == prev_filters else 2\n",
    "    model.add(ResidualUnit(filters, strides=strides))\n",
    "    prev_filters = filters\n",
    "model.add(keras.layers.GlobalAvgPool2D())\n",
    "model.add(keras.layers.Flatten())\n",
    "model.add(keras.layers.Dense(10, activation=\"softmax\"))"
   ]
  },
  {
   "cell_type": "code",
   "execution_count": 5,
   "id": "d4cc36a8-958e-47a9-9902-777bc4879e30",
   "metadata": {
    "execution": {
     "iopub.execute_input": "2022-02-14T21:56:08.857166Z",
     "iopub.status.busy": "2022-02-14T21:56:08.856688Z",
     "iopub.status.idle": "2022-02-14T21:56:08.869256Z",
     "shell.execute_reply": "2022-02-14T21:56:08.868575Z"
    },
    "tags": [
     "solution"
    ]
   },
   "outputs": [
    {
     "name": "stdout",
     "output_type": "stream",
     "text": [
      "Model: \"sequential\"\n",
      "_________________________________________________________________\n",
      " Layer (type)                Output Shape              Param #   \n",
      "=================================================================\n",
      " conv2d (Conv2D)             (None, 14, 14, 64)        3136      \n",
      "                                                                 \n",
      " batch_normalization (BatchN  (None, 14, 14, 64)       256       \n",
      " ormalization)                                                   \n",
      "                                                                 \n",
      " activation (Activation)     (None, 14, 14, 64)        0         \n",
      "                                                                 \n",
      " max_pooling2d (MaxPooling2D  (None, 7, 7, 64)         0         \n",
      " )                                                               \n",
      "                                                                 \n",
      " residual_unit (ResidualUnit  (None, 7, 7, 64)         74240     \n",
      " )                                                               \n",
      "                                                                 \n",
      " residual_unit_1 (ResidualUn  (None, 7, 7, 64)         74240     \n",
      " it)                                                             \n",
      "                                                                 \n",
      " residual_unit_2 (ResidualUn  (None, 4, 4, 128)        230912    \n",
      " it)                                                             \n",
      "                                                                 \n",
      " residual_unit_3 (ResidualUn  (None, 4, 4, 128)        295936    \n",
      " it)                                                             \n",
      "                                                                 \n",
      " global_average_pooling2d (G  (None, 128)              0         \n",
      " lobalAveragePooling2D)                                          \n",
      "                                                                 \n",
      " flatten (Flatten)           (None, 128)               0         \n",
      "                                                                 \n",
      " dense (Dense)               (None, 10)                1290      \n",
      "                                                                 \n",
      "=================================================================\n",
      "Total params: 680,010\n",
      "Trainable params: 678,090\n",
      "Non-trainable params: 1,920\n",
      "_________________________________________________________________\n"
     ]
    }
   ],
   "source": [
    "model.summary()"
   ]
  },
  {
   "cell_type": "markdown",
   "id": "561c8d32-b8e4-426b-8092-7ec79432dde0",
   "metadata": {},
   "source": [
    "Compile your model and train it."
   ]
  },
  {
   "cell_type": "code",
   "execution_count": 6,
   "id": "9073ecc9-3d50-49d8-a7b7-d8724c4b3bee",
   "metadata": {
    "execution": {
     "iopub.execute_input": "2022-02-14T21:56:08.873035Z",
     "iopub.status.busy": "2022-02-14T21:56:08.871913Z",
     "iopub.status.idle": "2022-02-14T21:56:08.884268Z",
     "shell.execute_reply": "2022-02-14T21:56:08.883756Z"
    },
    "tags": [
     "solution"
    ]
   },
   "outputs": [],
   "source": [
    "model.compile(loss=\"sparse_categorical_crossentropy\", optimizer=\"nadam\", metrics=[\"accuracy\"])"
   ]
  },
  {
   "cell_type": "code",
   "execution_count": 7,
   "id": "4a8d77d8-c1bc-4232-9013-82df752e21e1",
   "metadata": {
    "execution": {
     "iopub.execute_input": "2022-02-14T21:56:08.887839Z",
     "iopub.status.busy": "2022-02-14T21:56:08.886687Z",
     "iopub.status.idle": "2022-02-14T22:00:33.498507Z",
     "shell.execute_reply": "2022-02-14T22:00:33.497861Z"
    },
    "tags": [
     "solution"
    ]
   },
   "outputs": [
    {
     "name": "stdout",
     "output_type": "stream",
     "text": [
      "Epoch 1/3\n",
      "938/938 [==============================] - 71s 73ms/step - loss: 0.4476 - accuracy: 0.8360 - val_loss: 0.3532 - val_accuracy: 0.8739\n",
      "Epoch 2/3\n",
      "938/938 [==============================] - 68s 72ms/step - loss: 0.3044 - accuracy: 0.8875 - val_loss: 0.5346 - val_accuracy: 0.8170\n",
      "Epoch 3/3\n",
      "938/938 [==============================] - 67s 72ms/step - loss: 0.2590 - accuracy: 0.9035 - val_loss: 0.3177 - val_accuracy: 0.8832\n"
     ]
    }
   ],
   "source": [
    "history = model.fit(X_train, y_train, epochs=3, validation_data=(X_valid, y_valid))"
   ]
  },
  {
   "cell_type": "markdown",
   "id": "1159fce2-0749-4170-ab4d-f4b8e0ed6014",
   "metadata": {},
   "source": [
    "Evaluate the model performance on the test set."
   ]
  },
  {
   "cell_type": "code",
   "execution_count": 8,
   "id": "fb7322d3-ceee-473d-bdd4-8796b0e7effd",
   "metadata": {
    "execution": {
     "iopub.execute_input": "2022-02-14T22:00:33.502720Z",
     "iopub.status.busy": "2022-02-14T22:00:33.502377Z",
     "iopub.status.idle": "2022-02-14T22:00:36.436880Z",
     "shell.execute_reply": "2022-02-14T22:00:36.436330Z"
    },
    "tags": [
     "solution"
    ]
   },
   "outputs": [
    {
     "name": "stdout",
     "output_type": "stream",
     "text": [
      "313/313 [==============================] - 3s 9ms/step - loss: 0.3327 - accuracy: 0.8752\n"
     ]
    },
    {
     "data": {
      "text/plain": [
       "[0.33270543813705444, 0.8751999735832214]"
      ]
     },
     "execution_count": 8,
     "metadata": {},
     "output_type": "execute_result"
    }
   ],
   "source": [
    "model.evaluate(X_test, y_test)"
   ]
  }
 ],
 "metadata": {
  "kernelspec": {
   "display_name": "Python 3 (ipykernel)",
   "language": "python",
   "name": "python3"
  },
  "language_info": {
   "codemirror_mode": {
    "name": "ipython",
    "version": 3
   },
   "file_extension": ".py",
   "mimetype": "text/x-python",
   "name": "python",
   "nbconvert_exporter": "python",
   "pygments_lexer": "ipython3",
   "version": "3.8.12"
  }
 },
 "nbformat": 4,
 "nbformat_minor": 5
}
