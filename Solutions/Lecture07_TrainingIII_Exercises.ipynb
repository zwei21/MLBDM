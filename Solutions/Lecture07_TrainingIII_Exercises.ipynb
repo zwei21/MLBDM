{
 "cells": [
  {
   "cell_type": "markdown",
   "id": "732d0a46",
   "metadata": {},
   "source": [
    "# Exercises for Lecture 7 (Training III)"
   ]
  },
  {
   "cell_type": "code",
   "execution_count": 1,
   "id": "3eb4b504",
   "metadata": {
    "execution": {
     "iopub.execute_input": "2022-01-25T09:21:58.755083Z",
     "iopub.status.busy": "2022-01-25T09:21:58.754481Z",
     "iopub.status.idle": "2022-01-25T09:21:58.762213Z",
     "shell.execute_reply": "2022-01-25T09:21:58.762564Z"
    }
   },
   "outputs": [
    {
     "name": "stdout",
     "output_type": "stream",
     "text": [
      "Last executed: 2022-01-25 09:21:58\n"
     ]
    }
   ],
   "source": [
    "import datetime\n",
    "now = datetime.datetime.now()\n",
    "print(\"Last executed: \" + now.strftime(\"%Y-%m-%d %H:%M:%S\"))"
   ]
  },
  {
   "cell_type": "code",
   "execution_count": 2,
   "id": "2e5f1ed5",
   "metadata": {
    "execution": {
     "iopub.execute_input": "2022-01-25T09:21:58.767318Z",
     "iopub.status.busy": "2022-01-25T09:21:58.766897Z",
     "iopub.status.idle": "2022-01-25T09:21:59.443891Z",
     "shell.execute_reply": "2022-01-25T09:21:59.443023Z"
    }
   },
   "outputs": [],
   "source": [
    "# Common imports\n",
    "import os\n",
    "import numpy as np\n",
    "np.random.seed(0) # To make this notebook's output stable across runs\n",
    "\n",
    "# To plot pretty figures\n",
    "%matplotlib inline\n",
    "import matplotlib\n",
    "import matplotlib.pyplot as plt\n",
    "plt.rcParams['axes.labelsize'] = 14\n",
    "plt.rcParams['xtick.labelsize'] = 12\n",
    "plt.rcParams['ytick.labelsize'] = 12"
   ]
  },
  {
   "cell_type": "markdown",
   "id": "96e358a6",
   "metadata": {},
   "source": [
    "Set up the training data."
   ]
  },
  {
   "cell_type": "code",
   "execution_count": 3,
   "id": "436f5dc6",
   "metadata": {
    "execution": {
     "iopub.execute_input": "2022-01-25T09:21:59.449018Z",
     "iopub.status.busy": "2022-01-25T09:21:59.448593Z",
     "iopub.status.idle": "2022-01-25T09:21:59.960175Z",
     "shell.execute_reply": "2022-01-25T09:21:59.960504Z"
    }
   },
   "outputs": [
    {
     "data": {
      "text/plain": [
       "(0.0, 3.0, 0.0, 4.0)"
      ]
     },
     "execution_count": 3,
     "metadata": {},
     "output_type": "execute_result"
    },
    {
     "data": {
      "image/png": "[encoded data removed]",
      "text/plain": [
       "<Figure size 432x288 with 1 Axes>"
      ]
     },
     "metadata": {
      "needs_background": "light"
     },
     "output_type": "display_data"
    }
   ],
   "source": [
    "from sklearn.model_selection import train_test_split\n",
    "\n",
    "m = 50\n",
    "X = 3 * np.random.rand(m, 1)\n",
    "y = 1 + 0.5 * X + np.random.randn(m, 1) / 1.5\n",
    "X_new = np.linspace(0, 3, 100).reshape(100, 1)\n",
    "\n",
    "\n",
    "plt.plot(X, y, \"b.\")\n",
    "plt.xlabel(\"$x_1$\", fontsize=18)\n",
    "plt.ylabel(\"$y$\", rotation=0, fontsize=18)\n",
    "plt.axis([0, 3, 0, 4])"
   ]
  },
  {
   "cell_type": "markdown",
   "id": "f0447a00",
   "metadata": {},
   "source": [
    "## Exercise 1: Using Scikit-Learn, fit a polynomial of degree three using linear regression, and plot the predictions"
   ]
  },
  {
   "cell_type": "code",
   "execution_count": 4,
   "id": "db8a32d5",
   "metadata": {
    "execution": {
     "iopub.execute_input": "2022-01-25T09:21:59.968123Z",
     "iopub.status.busy": "2022-01-25T09:21:59.966645Z",
     "iopub.status.idle": "2022-01-25T09:22:00.103491Z",
     "shell.execute_reply": "2022-01-25T09:22:00.103088Z"
    },
    "tags": [
     "solution"
    ]
   },
   "outputs": [
    {
     "data": {
      "image/png": "[encoded data removed]",
      "text/plain": [
       "<Figure size 432x288 with 1 Axes>"
      ]
     },
     "metadata": {
      "needs_background": "light"
     },
     "output_type": "display_data"
    }
   ],
   "source": [
    "from sklearn.preprocessing import PolynomialFeatures\n",
    "from sklearn.preprocessing import StandardScaler\n",
    "from sklearn.linear_model import LinearRegression\n",
    "from sklearn.pipeline import Pipeline\n",
    "\n",
    "def plot_fitted_model(model): \n",
    "    y_new = model.predict(X_new)\n",
    "    plt.plot(X_new, y_new, \"r-\", linewidth=1)\n",
    "    plt.plot(X, y, \"b.\")\n",
    "    plt.xlabel(\"$x_1$\", fontsize=18)\n",
    "    plt.ylabel(\"$y$\", rotation=0, fontsize=18)\n",
    "    plt.axis([0, 3, 0, 4])\n",
    "\n",
    "\n",
    "polynomial_regression = Pipeline((\n",
    "    (\"poly_features\", PolynomialFeatures(degree=3, include_bias=False)),\n",
    "    (\"std_scaler\", StandardScaler()),\n",
    "    (\"lin_reg\", LinearRegression()),\n",
    "))\n",
    "\n",
    "polynomial_regression.fit(X, y)\n",
    "\n",
    "X_new = np.linspace(-3, 3, 100).reshape(100, 1)\n",
    "plot_fitted_model(polynomial_regression)"
   ]
  },
  {
   "cell_type": "markdown",
   "id": "773906c0",
   "metadata": {},
   "source": [
    "## Exercise 2: Fit a polynomial of degree three using linear regression with Tikhonov regularization, and plot the predictions\n",
    "\n",
    "Consider Ridge regularization parameter `alpha=1`."
   ]
  },
  {
   "cell_type": "code",
   "execution_count": 5,
   "id": "d8f0ddae",
   "metadata": {
    "execution": {
     "iopub.execute_input": "2022-01-25T09:22:00.111278Z",
     "iopub.status.busy": "2022-01-25T09:22:00.105783Z",
     "iopub.status.idle": "2022-01-25T09:22:00.232528Z",
     "shell.execute_reply": "2022-01-25T09:22:00.232146Z"
    },
    "scrolled": true,
    "tags": [
     "solution"
    ]
   },
   "outputs": [
    {
     "data": {
      "image/png": "[encoded data removed]",
      "text/plain": [
       "<Figure size 432x288 with 1 Axes>"
      ]
     },
     "metadata": {
      "needs_background": "light"
     },
     "output_type": "display_data"
    }
   ],
   "source": [
    "from sklearn.preprocessing import PolynomialFeatures\n",
    "from sklearn.preprocessing import StandardScaler\n",
    "from sklearn.linear_model import LinearRegression\n",
    "from sklearn.pipeline import Pipeline\n",
    "from sklearn.linear_model import Ridge\n",
    "\n",
    "\n",
    "ridge_regression = Pipeline((\n",
    "    (\"poly_features\", PolynomialFeatures(degree=3, include_bias=False)),\n",
    "    (\"std_scaler\", StandardScaler()),\n",
    "    (\"regul_reg\", Ridge(alpha=1)),\n",
    "))\n",
    "    \n",
    "ridge_regression.fit(X, y)\n",
    "\n",
    "plot_fitted_model(ridge_regression)"
   ]
  }
 ],
 "metadata": {
  "celltoolbar": "Tags",
  "kernelspec": {
   "display_name": "Python 3 (ipykernel)",
   "language": "python",
   "name": "python3"
  },
  "language_info": {
   "codemirror_mode": {
    "name": "ipython",
    "version": 3
   },
   "file_extension": ".py",
   "mimetype": "text/x-python",
   "name": "python",
   "nbconvert_exporter": "python",
   "pygments_lexer": "ipython3",
   "version": "3.8.12"
  }
 },
 "nbformat": 4,
 "nbformat_minor": 5
}
