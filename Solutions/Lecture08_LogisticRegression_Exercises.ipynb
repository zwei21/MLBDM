{
 "cells": [
  {
   "cell_type": "markdown",
   "id": "732d0a46",
   "metadata": {},
   "source": [
    "# Exercises for Lecture 8 (Logistic Regression)"
   ]
  },
  {
   "cell_type": "code",
   "execution_count": 1,
   "id": "3eb4b504",
   "metadata": {
    "execution": {
     "iopub.execute_input": "2022-01-25T09:22:07.816884Z",
     "iopub.status.busy": "2022-01-25T09:22:07.816267Z",
     "iopub.status.idle": "2022-01-25T09:22:07.824259Z",
     "shell.execute_reply": "2022-01-25T09:22:07.824603Z"
    }
   },
   "outputs": [
    {
     "name": "stdout",
     "output_type": "stream",
     "text": [
      "Last executed: 2022-01-25 09:22:07\n"
     ]
    }
   ],
   "source": [
    "import datetime\n",
    "now = datetime.datetime.now()\n",
    "print(\"Last executed: \" + now.strftime(\"%Y-%m-%d %H:%M:%S\"))"
   ]
  },
  {
   "cell_type": "code",
   "execution_count": 2,
   "id": "2e5f1ed5",
   "metadata": {
    "execution": {
     "iopub.execute_input": "2022-01-25T09:22:07.829736Z",
     "iopub.status.busy": "2022-01-25T09:22:07.829269Z",
     "iopub.status.idle": "2022-01-25T09:22:08.487616Z",
     "shell.execute_reply": "2022-01-25T09:22:08.487070Z"
    }
   },
   "outputs": [],
   "source": [
    "# Common imports\n",
    "import os\n",
    "import numpy as np\n",
    "np.random.seed(0) # To make this notebook's output stable across runs\n",
    "\n",
    "# To plot pretty figures\n",
    "%matplotlib inline\n",
    "import matplotlib\n",
    "import matplotlib.pyplot as plt\n",
    "plt.rcParams['axes.labelsize'] = 14\n",
    "plt.rcParams['xtick.labelsize'] = 12\n",
    "plt.rcParams['ytick.labelsize'] = 12"
   ]
  },
  {
   "cell_type": "markdown",
   "id": "3208161b",
   "metadata": {},
   "source": [
    "Consider the [wine recognition dataset](https://scikit-learn.org/stable/datasets/toy_dataset.html#wine-recognition-dataset):"
   ]
  },
  {
   "cell_type": "code",
   "execution_count": 3,
   "id": "436f5dc6",
   "metadata": {
    "execution": {
     "iopub.execute_input": "2022-01-25T09:22:08.492031Z",
     "iopub.status.busy": "2022-01-25T09:22:08.491180Z",
     "iopub.status.idle": "2022-01-25T09:22:08.794266Z",
     "shell.execute_reply": "2022-01-25T09:22:08.793847Z"
    },
    "scrolled": true
   },
   "outputs": [
    {
     "data": {
      "text/plain": [
       "['data', 'target', 'frame', 'target_names', 'DESCR', 'feature_names']"
      ]
     },
     "execution_count": 3,
     "metadata": {},
     "output_type": "execute_result"
    }
   ],
   "source": [
    "from sklearn import datasets\n",
    "\n",
    "wine = datasets.load_wine()\n",
    "list(wine.keys())"
   ]
  },
  {
   "cell_type": "code",
   "execution_count": 4,
   "id": "3cfeea52",
   "metadata": {
    "execution": {
     "iopub.execute_input": "2022-01-25T09:22:08.798363Z",
     "iopub.status.busy": "2022-01-25T09:22:08.797877Z",
     "iopub.status.idle": "2022-01-25T09:22:08.801299Z",
     "shell.execute_reply": "2022-01-25T09:22:08.800934Z"
    }
   },
   "outputs": [
    {
     "data": {
      "text/plain": [
       "(178, 13)"
      ]
     },
     "execution_count": 4,
     "metadata": {},
     "output_type": "execute_result"
    }
   ],
   "source": [
    "wine['data'].shape"
   ]
  },
  {
   "cell_type": "markdown",
   "id": "0f83de70",
   "metadata": {},
   "source": [
    "This dataset is made up of 13 features. These features are the results of a chemical analysis of wines grown by three different cultivators in the same region in Italy:"
   ]
  },
  {
   "cell_type": "code",
   "execution_count": 5,
   "id": "c7e2d5da",
   "metadata": {
    "execution": {
     "iopub.execute_input": "2022-01-25T09:22:08.804623Z",
     "iopub.status.busy": "2022-01-25T09:22:08.804216Z",
     "iopub.status.idle": "2022-01-25T09:22:08.806764Z",
     "shell.execute_reply": "2022-01-25T09:22:08.806416Z"
    },
    "scrolled": true
   },
   "outputs": [
    {
     "data": {
      "text/plain": [
       "['alcohol',\n",
       " 'malic_acid',\n",
       " 'ash',\n",
       " 'alcalinity_of_ash',\n",
       " 'magnesium',\n",
       " 'total_phenols',\n",
       " 'flavanoids',\n",
       " 'nonflavanoid_phenols',\n",
       " 'proanthocyanins',\n",
       " 'color_intensity',\n",
       " 'hue',\n",
       " 'od280/od315_of_diluted_wines',\n",
       " 'proline']"
      ]
     },
     "execution_count": 5,
     "metadata": {},
     "output_type": "execute_result"
    }
   ],
   "source": [
    "wine[\"feature_names\"]"
   ]
  },
  {
   "cell_type": "markdown",
   "id": "a357eafd",
   "metadata": {},
   "source": [
    "Each of the 3 different wines is a class:"
   ]
  },
  {
   "cell_type": "code",
   "execution_count": 6,
   "id": "db662877",
   "metadata": {
    "execution": {
     "iopub.execute_input": "2022-01-25T09:22:08.810682Z",
     "iopub.status.busy": "2022-01-25T09:22:08.810265Z",
     "iopub.status.idle": "2022-01-25T09:22:08.812353Z",
     "shell.execute_reply": "2022-01-25T09:22:08.812682Z"
    }
   },
   "outputs": [
    {
     "data": {
      "text/plain": [
       "array(['class_0', 'class_1', 'class_2'], dtype='<U7')"
      ]
     },
     "execution_count": 6,
     "metadata": {},
     "output_type": "execute_result"
    }
   ],
   "source": [
    "wine[\"target_names\"]"
   ]
  },
  {
   "cell_type": "markdown",
   "id": "f0447a00",
   "metadata": {},
   "source": [
    "## Exercise 1: Using only the first feature (the percentage of `alcohol` in the wine), train a binary logistic regressor to classify `class_1` wines"
   ]
  },
  {
   "cell_type": "markdown",
   "id": "c3c2c9de",
   "metadata": {},
   "source": [
    "### Set up the one dimensional training data , and train the model\n",
    "\n",
    "Make sure you select the correct feature!\n",
    "\n",
    "(Hint: refer to the `wine[\"feature_names\"]` above.)"
   ]
  },
  {
   "cell_type": "code",
   "execution_count": 7,
   "id": "db8a32d5",
   "metadata": {
    "execution": {
     "iopub.execute_input": "2022-01-25T09:22:08.816612Z",
     "iopub.status.busy": "2022-01-25T09:22:08.816181Z",
     "iopub.status.idle": "2022-01-25T09:22:08.846445Z",
     "shell.execute_reply": "2022-01-25T09:22:08.846082Z"
    },
    "tags": [
     "solution"
    ]
   },
   "outputs": [
    {
     "data": {
      "text/plain": [
       "LogisticRegression(random_state=0)"
      ]
     },
     "execution_count": 7,
     "metadata": {},
     "output_type": "execute_result"
    }
   ],
   "source": [
    "X_1d = wine[\"data\"][:, 0]  # alcohol\n",
    "X_1d = X_1d.reshape(-1, 1)\n",
    "\n",
    "y = (wine[\"target\"] == 1).astype(int)  # 1 if class_1, else 0\n",
    "\n",
    "from sklearn.linear_model import LogisticRegression\n",
    "\n",
    "log_reg = LogisticRegression(random_state=0)\n",
    "log_reg.fit(X_1d, y)"
   ]
  },
  {
   "cell_type": "markdown",
   "id": "bd6ef33c",
   "metadata": {},
   "source": [
    "### Plot the models predictions, along with the decision boundary, and the training data"
   ]
  },
  {
   "cell_type": "code",
   "execution_count": 8,
   "id": "91e1028c",
   "metadata": {
    "execution": {
     "iopub.execute_input": "2022-01-25T09:22:08.854391Z",
     "iopub.status.busy": "2022-01-25T09:22:08.853943Z",
     "iopub.status.idle": "2022-01-25T09:22:09.009812Z",
     "shell.execute_reply": "2022-01-25T09:22:09.009377Z"
    },
    "scrolled": false,
    "tags": [
     "solution"
    ]
   },
   "outputs": [
    {
     "data": {
      "image/png": "[encoded data removed]",
      "text/plain": [
       "<Figure size 576x288 with 1 Axes>"
      ]
     },
     "metadata": {
      "needs_background": "light"
     },
     "output_type": "display_data"
    }
   ],
   "source": [
    "X_1d_new = np.linspace(min(X_1d), max(X_1d), 1000).reshape(-1, 1)\n",
    "y_1d_proba = log_reg.predict_proba(X_1d_new)\n",
    "\n",
    "# Be careful! Here, the class we're trying to identify \n",
    "# decreases in probability as the x variable (the `alcohol` percentage) increases.\n",
    "# In the lectures, the opposite occured -- the probability increased with increasing x.  \n",
    "decision_boundary = X_1d_new[y_1d_proba[:, 1] >= 0.5][-1]  # Select the last value\n",
    "decision_boundary\n",
    "\n",
    "plt.figure(figsize=(8, 4))\n",
    "\n",
    "plt.plot(X_1d[y==0], y[y==0], \"bs\")\n",
    "plt.plot(X_1d[y==1], y[y==1], \"g^\")\n",
    "\n",
    "plt.plot([decision_boundary, decision_boundary], [-1, 2], \"k:\", linewidth=2)\n",
    "\n",
    "plt.plot(X_1d_new, y_1d_proba[:, 1], \"g-\", linewidth=2, label=\"class_1\")\n",
    "plt.plot(X_1d_new, y_1d_proba[:, 0], \"b--\", linewidth=2, label=\"Not class_1\")\n",
    "\n",
    "plt.text(decision_boundary+0.02, 0.15, \"Decision  boundary\", fontsize=14, color=\"k\", ha=\"center\")\n",
    "plt.arrow(decision_boundary[0], 0.08, -0.3, 0, head_width=0.05, head_length=0.1, fc='g', ec='g')\n",
    "plt.arrow(decision_boundary[0], 0.92, 0.3, 0, head_width=0.05, head_length=0.1, fc='b', ec='b')\n",
    "\n",
    "plt.xlabel(\"Alcohol (%)\", fontsize=14)\n",
    "plt.ylabel(\"Probability\", fontsize=14)\n",
    "plt.legend(loc=\"center left\", fontsize=14)\n",
    "plt.axis([11, 15, -0.02, 1.02]);"
   ]
  },
  {
   "cell_type": "markdown",
   "id": "6446c86f",
   "metadata": {},
   "source": [
    "## Exercise 2: Using the `color_intensity` and the `hue` of the wines, train a binary logistic regressor to classify `class_1` wines"
   ]
  },
  {
   "cell_type": "markdown",
   "id": "4754ce3a",
   "metadata": {},
   "source": [
    "### Set up the training data and train the model\n",
    "\n",
    "Use inverse regularization `C=1000`.\n",
    "\n",
    "Make sure you select the right features!"
   ]
  },
  {
   "cell_type": "code",
   "execution_count": 9,
   "id": "c7d88a6e",
   "metadata": {
    "execution": {
     "iopub.execute_input": "2022-01-25T09:22:09.019945Z",
     "iopub.status.busy": "2022-01-25T09:22:09.013721Z",
     "iopub.status.idle": "2022-01-25T09:22:09.023288Z",
     "shell.execute_reply": "2022-01-25T09:22:09.022911Z"
    },
    "tags": [
     "solution"
    ]
   },
   "outputs": [
    {
     "data": {
      "text/plain": [
       "LogisticRegression(C=1000, random_state=0)"
      ]
     },
     "execution_count": 9,
     "metadata": {},
     "output_type": "execute_result"
    }
   ],
   "source": [
    "from sklearn.linear_model import LogisticRegression\n",
    "\n",
    "X = wine[\"data\"][:, (9, 10)]  # \n",
    "y = (wine[\"target\"] == 1).astype(int)\n",
    " \n",
    "# We've used c=1000 here -- inverse regularization (smaller values correspond to stronger regularization)\n",
    "log_reg = LogisticRegression(C=1000, random_state=0)\n",
    "log_reg.fit(X, y)"
   ]
  },
  {
   "cell_type": "markdown",
   "id": "770ebb5c",
   "metadata": {},
   "source": [
    "### Plot the models predictions, along with the decision boundary, and the training data"
   ]
  },
  {
   "cell_type": "code",
   "execution_count": 10,
   "id": "ea5c86bf",
   "metadata": {
    "execution": {
     "iopub.execute_input": "2022-01-25T09:22:09.041263Z",
     "iopub.status.busy": "2022-01-25T09:22:09.030511Z",
     "iopub.status.idle": "2022-01-25T09:22:09.222756Z",
     "shell.execute_reply": "2022-01-25T09:22:09.222352Z"
    },
    "tags": [
     "solution"
    ]
   },
   "outputs": [
    {
     "data": {
      "image/png": "[encoded data removed]",
      "text/plain": [
       "<Figure size 720x360 with 1 Axes>"
      ]
     },
     "metadata": {
      "needs_background": "light"
     },
     "output_type": "display_data"
    }
   ],
   "source": [
    "plt.figure(figsize=(10, 5))\n",
    "\n",
    "# Plot the data points\n",
    "plt.plot(X[y==0, 0], X[y==0, 1], \"bs\")\n",
    "plt.plot(X[y==1, 0], X[y==1, 1], \"g^\")\n",
    "\n",
    "# Plot the decision boundary and probabilities\n",
    "x0, x1 = np.meshgrid(np.linspace(0, 14, 400).reshape(-1, 1),\n",
    "                     np.linspace(0.4, 1.8, 400).reshape(-1, 1))\n",
    "\n",
    "X_new = np.c_[x0.ravel(), x1.ravel()]\n",
    "\n",
    "y_proba = log_reg.predict_proba(X_new)\n",
    "\n",
    "zz = y_proba[:, 1].reshape(x0.shape)\n",
    "contour = plt.contour(x0, x1, zz, cmap=plt.cm.brg)\n",
    "\n",
    "# Solve theta^T x = 0 to determine the boundary, as in the lecture\n",
    "left_right = np.array([0, 14]) \n",
    "boundary = -(log_reg.coef_[0][0] * left_right + log_reg.intercept_[0]) / log_reg.coef_[0][1]\n",
    "\n",
    "plt.clabel(contour, inline=1, fontsize=12)\n",
    "plt.plot(left_right, boundary, \"k--\", linewidth=3)\n",
    "plt.text(7.5, 1.5, \"Not class_1\", fontsize=14, color=\"b\", ha=\"center\")\n",
    "plt.text(1.2, 1.5, \"class_1\", fontsize=14, color=\"g\", ha=\"center\")\n",
    "plt.xlabel(\"Colour intensity\", fontsize=14)\n",
    "plt.ylabel(\"Hue\", fontsize=14)\n",
    "plt.axis([0, 14, 0.4, 1.8]);"
   ]
  }
 ],
 "metadata": {
  "celltoolbar": "Tags",
  "kernelspec": {
   "display_name": "Python 3 (ipykernel)",
   "language": "python",
   "name": "python3"
  },
  "language_info": {
   "codemirror_mode": {
    "name": "ipython",
    "version": 3
   },
   "file_extension": ".py",
   "mimetype": "text/x-python",
   "name": "python",
   "nbconvert_exporter": "python",
   "pygments_lexer": "ipython3",
   "version": "3.8.12"
  }
 },
 "nbformat": 4,
 "nbformat_minor": 5
}
