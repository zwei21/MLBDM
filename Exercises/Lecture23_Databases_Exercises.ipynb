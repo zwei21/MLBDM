{
 "cells": [
  {
   "cell_type": "markdown",
   "metadata": {},
   "source": [
    "# SQL Exercises - Fugue\n",
    "\n",
    "This exercise is about using SQL to retrieve information from a database.\n",
    "\n",
    "To simplify things, instead of connecting to an actual database, we will work with a pandas dataframe and treat it as if it were a database table.\n",
    "\n",
    "We will be using a library called [Fugue](https://fugue-tutorials.readthedocs.io/tutorials/fugue_sql/index.html) which will enable us to execute SQL commands on the dataframe directly in a notebook.\n",
    "To run these examples, you will first have to install it with `pip install fugue[sql]`."
   ]
  },
  {
   "cell_type": "markdown",
   "metadata": {},
   "source": [
    "### About Fugue\n",
    "\n",
    "Fugue is one way of calling SQL commands through the notebook. One of its strengths is that it can use SQL-like syntax for different data sources, such as data frames.\n",
    "\n",
    "The syntax we show here is almost identical to SQL, except that we need to add the `PRINT` keyword to see the output. We also only see up to 10 lines of output for each query, even if there are more results.\n",
    "Otherwise, the commands we give and the results we get are very similar to what we would see in a real RDBMS."
   ]
  },
  {
   "cell_type": "markdown",
   "metadata": {},
   "source": [
    "## Examples"
   ]
  },
  {
   "cell_type": "markdown",
   "metadata": {},
   "source": [
    "We start with some examples of setting up and using the library."
   ]
  },
  {
   "cell_type": "code",
   "execution_count": null,
   "metadata": {},
   "outputs": [],
   "source": [
    "# Unfortunately `fugue` is going to cause some `FutureWarnings`, so turning them off for now to keep things cleaner\n",
    "import warnings\n",
    "warnings.simplefilter(action='ignore', category=FutureWarning)"
   ]
  },
  {
   "cell_type": "markdown",
   "metadata": {},
   "source": [
    "This next cell sets up `fugue`, which we must do before using it:"
   ]
  },
  {
   "cell_type": "code",
   "execution_count": null,
   "metadata": {},
   "outputs": [],
   "source": [
    "import pandas as pd\n",
    "from fugue_notebook import setup\n",
    "setup()"
   ]
  },
  {
   "cell_type": "markdown",
   "metadata": {},
   "source": [
    "As a quick demonstration, we will now create a simple dataframe with `pandas`, and then use `fugue` to play around with it."
   ]
  },
  {
   "cell_type": "code",
   "execution_count": null,
   "metadata": {},
   "outputs": [],
   "source": [
    "df = pd.DataFrame({\"numeric\": [0, 1, 2], \"text\": [\"A\", \"B\", \"C\"]})"
   ]
  },
  {
   "cell_type": "code",
   "execution_count": null,
   "metadata": {},
   "outputs": [],
   "source": [
    "df.head()"
   ]
  },
  {
   "cell_type": "markdown",
   "metadata": {},
   "source": [
    "To recreate this with SQL, let's retrieve all values."
   ]
  },
  {
   "cell_type": "code",
   "execution_count": null,
   "metadata": {},
   "outputs": [],
   "source": [
    "%%fsql\n",
    "SELECT *\n",
    "FROM df\n",
    "PRINT"
   ]
  },
  {
   "cell_type": "markdown",
   "metadata": {},
   "source": [
    "Note the line at the bottom of the output, which gives us the **schema** (the data type for each column)."
   ]
  },
  {
   "cell_type": "markdown",
   "metadata": {},
   "source": [
    "We can retrieve particular rows that match a condition as usual:"
   ]
  },
  {
   "cell_type": "code",
   "execution_count": null,
   "metadata": {},
   "outputs": [],
   "source": [
    "%%fsql\n",
    "SELECT *\n",
    "FROM df\n",
    "WHERE numeric=0\n",
    "PRINT"
   ]
  },
  {
   "cell_type": "markdown",
   "metadata": {},
   "source": [
    "and columns:"
   ]
  },
  {
   "cell_type": "code",
   "execution_count": null,
   "metadata": {},
   "outputs": [],
   "source": [
    "%%fsql\n",
    "SELECT numeric\n",
    "FROM df\n",
    "PRINT"
   ]
  },
  {
   "cell_type": "markdown",
   "metadata": {},
   "source": [
    "Now let's get started with the exercises. First, let's download a dataset from `scikit-learn`."
   ]
  },
  {
   "cell_type": "code",
   "execution_count": null,
   "metadata": {},
   "outputs": [],
   "source": [
    "from sklearn.datasets import fetch_california_housing\n",
    "data_california = fetch_california_housing()"
   ]
  },
  {
   "cell_type": "markdown",
   "metadata": {},
   "source": [
    "Let's convert this to a dataframe so we can play with it:"
   ]
  },
  {
   "cell_type": "code",
   "execution_count": null,
   "metadata": {},
   "outputs": [],
   "source": [
    "california = pd.DataFrame(data=data_california.data, columns=data_california.feature_names)\n",
    "california['target'] = data_california.target\n",
    "california.head()"
   ]
  },
  {
   "cell_type": "markdown",
   "metadata": {},
   "source": [
    "## Finding rows with high target variable\n",
    "\n",
    "We can query this to find the rows with `target` value greater than 4: (note that the `fugue` will only print the first 10 rows by default)"
   ]
  },
  {
   "cell_type": "code",
   "execution_count": null,
   "metadata": {},
   "outputs": [],
   "source": [
    "%%fsql\n",
    "SELECT *\n",
    "FROM california\n",
    "WHERE ...\n",
    "PRINT"
   ]
  },
  {
   "cell_type": "markdown",
   "metadata": {},
   "source": [
    "We can also find how many such rows there are:"
   ]
  },
  {
   "cell_type": "code",
   "execution_count": null,
   "metadata": {},
   "outputs": [],
   "source": [
    "%%fsql\n",
    "SELECT COUNT(*) AS TotalHighTarget\n",
    "...\n",
    "PRINT"
   ]
  },
  {
   "cell_type": "markdown",
   "metadata": {},
   "source": [
    "To get an idea of the distribution of values in the target column, we can use some aggregate SQL functions:"
   ]
  },
  {
   "cell_type": "code",
   "execution_count": null,
   "metadata": {},
   "outputs": [],
   "source": [
    "%%fsql\n",
    "SELECT AVG(...) AS AverageTarget, MIN(...) AS MinTarget, MAX(...) AS MaxTarget\n",
    "...\n",
    "PRINT"
   ]
  },
  {
   "cell_type": "markdown",
   "metadata": {},
   "source": [
    "The results should show that the target values range between approximately 0.15 and 5, so our choice of 4 as a \"high\" target may be reasonable."
   ]
  },
  {
   "cell_type": "markdown",
   "metadata": {},
   "source": [
    "## Focus on older buildings\n",
    "\n",
    "Find the rows where `HouseAge` is greater than 50 and `Population` is more than 1000."
   ]
  },
  {
   "cell_type": "code",
   "execution_count": null,
   "metadata": {},
   "outputs": [],
   "source": [
    "%%fsql\n",
    "...\n",
    "PRINT"
   ]
  },
  {
   "cell_type": "markdown",
   "metadata": {},
   "source": [
    "And count how many rows like these there are:"
   ]
  },
  {
   "cell_type": "code",
   "execution_count": null,
   "metadata": {},
   "outputs": [],
   "source": [
    "%%fsql\n",
    "...\n",
    "PRINT"
   ]
  },
  {
   "cell_type": "markdown",
   "metadata": {},
   "source": [
    "## More advanced keywords\n",
    "\n",
    "Find the 5 rows with the highest number of average bedrooms, which are less than 30 years old.\n",
    "\n",
    "**Hint:** You will need the `ORDER BY` and `LIMIT` keywords.\n",
    "`ORDER BY` is followed by a column name and a sorting direction (`ASC` or `DESC` for ascending or descending, respectively).\n",
    "`LIMIT` is followed by the maximum number of results we want to retrieve"
   ]
  },
  {
   "cell_type": "code",
   "execution_count": null,
   "metadata": {},
   "outputs": [],
   "source": [
    "%%fsql\n",
    "SELECT ...\n",
    "FROM ...\n",
    "WHERE ...\n",
    "ORDER BY ... DESC\n",
    "LIMIT ...\n",
    "PRINT"
   ]
  }
 ],
 "metadata": {
  "kernelspec": {
   "display_name": "Python 3",
   "language": "python",
   "name": "python3"
  },
  "language_info": {
   "codemirror_mode": {
    "name": "ipython",
    "version": 3
   },
   "file_extension": ".py",
   "mimetype": "text/x-python",
   "name": "python",
   "nbconvert_exporter": "python",
   "pygments_lexer": "ipython3",
   "version": "3.8.1"
  }
 },
 "nbformat": 4,
 "nbformat_minor": 5
}
